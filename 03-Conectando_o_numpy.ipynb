{
 "cells": [
  {
   "cell_type": "code",
   "execution_count": null,
   "metadata": {},
   "outputs": [],
   "source": [
    "# Versão da Linguagem Python\n",
    "from platform import python_version\n",
    "print('Versão de Python Neste Jupyter Notebook:', python_version())"
   ]
  },
  {
   "attachments": {},
   "cell_type": "markdown",
   "metadata": {},
   "source": [
    "### Conectando o NumPy"
   ]
  },
  {
   "attachments": {},
   "cell_type": "markdown",
   "metadata": {},
   "source": [
    "- Usando o protocolo de buffer\n",
    "- Usando a interface de matriz\n",
    "- Troca de dados com MATLAB e Octave\n",
    "- Instalando o RPy2\n",
    "- Interface com R\n",
    "- Instalando o JPype\n",
    "- Enviando uma matriz NumPy para JPype\n",
    "- Instalando o Google App Engine\n",
    "- Implantando o código NumPy na nuvem do Google\n",
    "- Executando o código NumPy em um console da web Python Anywhere\n",
    "- Configurando o PiCloud"
   ]
  },
  {
   "attachments": {},
   "cell_type": "markdown",
   "metadata": {},
   "source": [
    "Este capítulo é sobre interoperabilidade . Temos que continuar nos lembrando de\n",
    "que o NumPy não está sozinho no ecossistema de software científico (Python).\n",
    "Trabalhar em conjunto com SciPy e Matplotlib é muito fácil. Existem protocolos\n",
    "para interoperabilidade com outros pacotes Python.\n",
    "Fora do ecossistema Python, linguagens como Java, R, C e FORTRAN são bastante\n",
    "populares. Entraremos em detalhes sobre a troca de dados com esses\n",
    "ambientes."
   ]
  },
  {
   "attachments": {},
   "cell_type": "markdown",
   "metadata": {},
   "source": [
    "Além disso, discutiremos como obter nosso código NumPy na nuvem. Esta é uma\n",
    "tecnologia em constante evolução, em um espaço em movimento rápido. Muitas\n",
    "opções estão disponíveis para você, das quais Google App Engine, PiCloud e Python\n",
    "Anywhere serão abordadas."
   ]
  },
  {
   "attachments": {},
   "cell_type": "markdown",
   "metadata": {},
   "source": [
    "### Usando o protocolo de buffer"
   ]
  },
  {
   "attachments": {},
   "cell_type": "markdown",
   "metadata": {},
   "source": [
    "Os objetos Python baseados em C têm uma chamada \"interface de buffer\". Os\n",
    "objetos Python podem expor seus dados para acesso direto sem a necessidade de\n",
    "copiá-los. O protocolo de buffer permite que nos comuniquemos com outro software\n",
    "Python, como a Python Imaging Library (PIL) . Veremos um exemplo de como salvar\n",
    "uma imagem PIL de um array NumPy."
   ]
  },
  {
   "attachments": {},
   "cell_type": "markdown",
   "metadata": {},
   "source": [
    "Primeiro, precisamos de um array NumPy com o qual jogar."
   ]
  },
  {
   "attachments": {},
   "cell_type": "markdown",
   "metadata": {},
   "source": [
    "1. Crie uma matriz de dados de imagem."
   ]
  },
  {
   "attachments": {},
   "cell_type": "markdown",
   "metadata": {},
   "source": [
    "Nos capítulos anteriores, vimos como carregar a imagem de amostra \"Lena\"\n",
    "de Lena Soderberg. Vamos criar uma matriz preenchida com zeros e\n",
    "preencher o canal alfa com os dados da imagem:"
   ]
  },
  {
   "cell_type": "code",
   "execution_count": null,
   "metadata": {},
   "outputs": [],
   "source": [
    "lena = scipy.misc.lena() data =\n",
    "numpy.zeros((lena.shape[0], lena.shape[1], 4), dtype=nump data[:,:,3] = lena.copy()"
   ]
  },
  {
   "attachments": {},
   "cell_type": "markdown",
   "metadata": {},
   "source": [
    "2. Salve os dados como uma imagem PIL."
   ]
  },
  {
   "attachments": {},
   "cell_type": "markdown",
   "metadata": {},
   "source": [
    "Agora, usaremos a API PIL para salvar os dados como uma imagem\n",
    "RGBA:"
   ]
  },
  {
   "cell_type": "code",
   "execution_count": null,
   "metadata": {},
   "outputs": [],
   "source": [
    "mg = Image.frombuffer(\"RGBA\", lena.shape, dados)\n",
    "img.save('lena_frombuffer.png')"
   ]
  },
  {
   "attachments": {},
   "cell_type": "markdown",
   "metadata": {},
   "source": [
    "3. Modifique a matriz de dados e salve a imagem."
   ]
  },
  {
   "attachments": {},
   "cell_type": "markdown",
   "metadata": {},
   "source": [
    "Modifique a matriz de dados eliminando os dados da imagem e tornando a imagem vermelha. Salve a imagem com a API PIL:"
   ]
  },
  {
   "cell_type": "code",
   "execution_count": null,
   "metadata": {},
   "outputs": [],
   "source": [
    "tornando a imagem vermelha. Salve a imagem com a API PIL:\n",
    "dados[:,:,3] = 255\n",
    "dados[:,:,0] = 222\n",
    "img.save('lena_modified.png')"
   ]
  },
  {
   "cell_type": "markdown",
   "metadata": {},
   "source": []
  },
  {
   "cell_type": "markdown",
   "metadata": {},
   "source": []
  },
  {
   "cell_type": "markdown",
   "metadata": {},
   "source": []
  },
  {
   "cell_type": "markdown",
   "metadata": {},
   "source": []
  },
  {
   "cell_type": "markdown",
   "metadata": {},
   "source": []
  },
  {
   "cell_type": "markdown",
   "metadata": {},
   "source": []
  },
  {
   "cell_type": "markdown",
   "metadata": {},
   "source": []
  },
  {
   "cell_type": "markdown",
   "metadata": {},
   "source": []
  },
  {
   "cell_type": "markdown",
   "metadata": {},
   "source": []
  },
  {
   "cell_type": "markdown",
   "metadata": {},
   "source": []
  },
  {
   "cell_type": "markdown",
   "metadata": {},
   "source": []
  },
  {
   "cell_type": "markdown",
   "metadata": {},
   "source": []
  },
  {
   "cell_type": "code",
   "execution_count": null,
   "metadata": {},
   "outputs": [],
   "source": [
    "%reload_ext watermark\n",
    "%watermark -a \"Caique Miranda\" -gu \"caiquemiranda\" -iv"
   ]
  },
  {
   "attachments": {},
   "cell_type": "markdown",
   "metadata": {},
   "source": [
    "### End."
   ]
  }
 ],
 "metadata": {
  "language_info": {
   "name": "python"
  },
  "orig_nbformat": 4
 },
 "nbformat": 4,
 "nbformat_minor": 2
}
