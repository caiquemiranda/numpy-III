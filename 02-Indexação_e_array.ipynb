{
 "cells": [
  {
   "cell_type": "code",
   "execution_count": null,
   "metadata": {},
   "outputs": [],
   "source": [
    "# Versão da Linguagem Python\n",
    "from platform import python_version\n",
    "print('Versão de Python Neste Jupyter Notebook:', python_version())"
   ]
  },
  {
   "attachments": {},
   "cell_type": "markdown",
   "metadata": {},
   "source": [
    "- Instalando o SciPy\n",
    "- Instalando o PIL\n",
    "- Redimensionando imagens\n",
    "- Comparando exibições e cópias\n",
    "- Lançando Lena\n",
    "- Indexação sofisticada\n",
    "- Indexação com uma lista de locais\n",
    "- Indexação com booleanos\n",
    "- Stride truques para Sudoku\n",
    "- matrizes de transmissão"
   ]
  },
  {
   "attachments": {},
   "cell_type": "markdown",
   "metadata": {},
   "source": [
    "O NumPy é famoso por seus arrays eficientes. Essa fama se deve em parte à facilidade de indexação. Demonstraremos truques avançados de indexação usando imagens. Antes de mergulhar na indexação, instalaremos o software necessário — SciPy e PIL."
   ]
  },
  {
   "attachments": {},
   "cell_type": "markdown",
   "metadata": {},
   "source": [
    "Alguns dos exemplos envolverão a manipulação de imagens. Para fazer isso, vamos exigir a imagem do Python."
   ]
  },
  {
   "attachments": {},
   "cell_type": "markdown",
   "metadata": {},
   "source": [
    "Biblioteca (PIL) ; mas não se preocupe, instruções e dicas para ajudá-lo a instalar o PIL e outros softwares Python necessários são fornecidos ao longo do capítulo, quando necessário."
   ]
  },
  {
   "attachments": {},
   "cell_type": "markdown",
   "metadata": {},
   "source": [
    "### Instalando o SciPy"
   ]
  },
  {
   "attachments": {},
   "cell_type": "markdown",
   "metadata": {},
   "source": [
    "SciPy é a biblioteca científica do Python e está intimamente relacionada ao NumPy.\n",
    "Há uma chance de você já ter instalado este software como parte da instalação do NumPy. SciPy e NumPy costumavam ser o mesmo projeto há muitos anos."
   ]
  },
  {
   "attachments": {},
   "cell_type": "markdown",
   "metadata": {},
   "source": [
    "- Instalando no Windows: Se você já tiver o Python instalado, o método\n",
    "preferido é baixar e usar a distribuição binária. Alternativamente, você pode querer instalar a distribuição Enthought Python, que vem com outro software Python científico pacotes."
   ]
  },
  {
   "attachments": {},
   "cell_type": "markdown",
   "metadata": {},
   "source": [
    "- Verifique sua instalação: Verifique a instalação do SciPy com o\n",
    "seguinte código:"
   ]
  },
  {
   "cell_type": "code",
   "execution_count": null,
   "metadata": {},
   "outputs": [],
   "source": [
    "import scipy\n",
    "print(scipy.__version__)\n",
    "print(scipy.__file__)"
   ]
  },
  {
   "attachments": {},
   "cell_type": "markdown",
   "metadata": {},
   "source": [
    "Isso deve imprimir a versão SciPy correta."
   ]
  },
  {
   "attachments": {},
   "cell_type": "markdown",
   "metadata": {},
   "source": [
    "### Instalando o PIL"
   ]
  },
  {
   "cell_type": "code",
   "execution_count": null,
   "metadata": {},
   "outputs": [],
   "source": []
  },
  {
   "cell_type": "markdown",
   "metadata": {},
   "source": []
  },
  {
   "cell_type": "markdown",
   "metadata": {},
   "source": []
  },
  {
   "cell_type": "code",
   "execution_count": null,
   "metadata": {},
   "outputs": [],
   "source": [
    "%reload_ext watermark\n",
    "%watermark -a \"Caique Miranda\" -gu \"caiquemiranda\" -iv"
   ]
  },
  {
   "attachments": {},
   "cell_type": "markdown",
   "metadata": {},
   "source": [
    "### End."
   ]
  }
 ],
 "metadata": {
  "language_info": {
   "name": "python"
  },
  "orig_nbformat": 4
 },
 "nbformat": 4,
 "nbformat_minor": 2
}
