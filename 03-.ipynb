{
 "cells": [
  {
   "cell_type": "code",
   "execution_count": null,
   "metadata": {},
   "outputs": [],
   "source": [
    "# Versão da Linguagem Python\n",
    "from platform import python_version\n",
    "print('Versão de Python Neste Jupyter Notebook:', python_version())"
   ]
  },
  {
   "cell_type": "code",
   "execution_count": null,
   "metadata": {},
   "outputs": [],
   "source": [
    "import numpy"
   ]
  },
  {
   "attachments": {},
   "cell_type": "markdown",
   "metadata": {},
   "source": [
    "### funções comumente usadas"
   ]
  },
  {
   "attachments": {},
   "cell_type": "markdown",
   "metadata": {},
   "source": [
    "- `sqrt`, `log`, `arange`, `astype` e `sum`\n",
    "- `ceil`, `modf`, `where`, `ravel`, and `take`\n",
    "- `sort` and `outer`\n",
    "- `diff`, `sign`, `eig`\n",
    "- `histogram` and `polyfit`\n",
    "- `compress` and `randint`"
   ]
  },
  {
   "attachments": {},
   "cell_type": "markdown",
   "metadata": {},
   "source": [
    "- Somar números de Fibonacci\n",
    "- Encontrando fatores primos\n",
    "- Encontrando números palíndromos\n",
    "- A determinação do vetor de estado estacionário\n",
    "- Descobrindo uma lei de potência\n",
    "- Negociando periodicamente em quedas\n",
    "- Simulando negociação aleatoriamente\n",
    "- Peneirando números inteiros com a Peneira de Eratóstenes"
   ]
  },
  {
   "attachments": {},
   "cell_type": "markdown",
   "metadata": {},
   "source": [
    "#### números de Fibonacci"
   ]
  },
  {
   "attachments": {},
   "cell_type": "markdown",
   "metadata": {},
   "source": [
    "somaremos os termos de valor par na sequência de\n",
    "Fibonacci cujos valores não excedam quatro milhões. A série de Fibonacci\n",
    "é uma sequência de inteiros começando com zero, onde cada número\n",
    "é a soma dos dois anteriores; exceto, é claro, os dois primeiros números\n",
    "zero e um."
   ]
  },
  {
   "attachments": {},
   "cell_type": "markdown",
   "metadata": {},
   "source": [
    "##### Como fazer isso..."
   ]
  },
  {
   "attachments": {},
   "cell_type": "markdown",
   "metadata": {},
   "source": [
    "1. Calcule a proporção áurea."
   ]
  },
  {
   "cell_type": "code",
   "execution_count": null,
   "metadata": {},
   "outputs": [],
   "source": [
    "# Estaremos usando a função sqrt para calcular a raiz quadrada de cinco:\n",
    "\n",
    "phi = (1 + numpy.sqrt(5))/2 \n",
    "print(\"Phi\", phi)"
   ]
  },
  {
   "attachments": {},
   "cell_type": "markdown",
   "metadata": {},
   "source": [
    "2. Encontre o índice abaixo de quatro milhões."
   ]
  },
  {
   "attachments": {},
   "cell_type": "markdown",
   "metadata": {},
   "source": [
    "na receita, precisamos encontrar o índice do número de Fibonacci\n",
    "abaixo de quatro milhões. Uma fórmula para isso é fornecida na página da\n",
    "Wikipedia e vamos calculá-la usando essa fórmula. Tudo o que precisamos fazer é\n",
    "converter as bases de log com a função log . Não precisamos arredondar o resultado\n",
    "para o inteiro mais próximo."
   ]
  },
  {
   "attachments": {},
   "cell_type": "markdown",
   "metadata": {},
   "source": [
    "Isso é feito automaticamente para nós na próxima etapa da receita:"
   ]
  },
  {
   "cell_type": "code",
   "execution_count": null,
   "metadata": {},
   "outputs": [],
   "source": [
    "n = numpy.log(4 10 * 6 * numpy.sqrt(5) + 0.5) / numpy.log(phi)\n",
    "print(n)"
   ]
  },
  {
   "attachments": {},
   "cell_type": "markdown",
   "metadata": {},
   "source": [
    "3. Crie uma matriz de 1-n."
   ]
  },
  {
   "attachments": {},
   "cell_type": "markdown",
   "metadata": {},
   "source": [
    "A função arange é uma função muito básica, que muitas pessoas conhecem.\n",
    "Ainda assim, vamos mencioná-lo aqui para completar:"
   ]
  },
  {
   "cell_type": "code",
   "execution_count": null,
   "metadata": {},
   "outputs": [],
   "source": [
    "n = numpy.arange(1, n)"
   ]
  },
  {
   "attachments": {},
   "cell_type": "markdown",
   "metadata": {},
   "source": [
    "4. Calcule os números de Fibonacci."
   ]
  },
  {
   "attachments": {},
   "cell_type": "markdown",
   "metadata": {},
   "source": [
    "Existe uma fórmula conveniente que podemos usar para calcular os números\n",
    "de Fibonacci. Vamos precisar da proporção áurea e da matriz da etapa anterior\n",
    "desta receita como parâmetros de entrada."
   ]
  },
  {
   "cell_type": "code",
   "execution_count": null,
   "metadata": {},
   "outputs": [],
   "source": [
    "# Imprima os nove primeiros números de Fibonacci para verificar o resultado:\n",
    "\n",
    "fib = (phi**n - (-1/phi)**n)/numpy.sqrt(5) \n",
    "print(\"Primeiros 9 números de Fibonacci\", fib[:9])"
   ]
  },
  {
   "attachments": {},
   "cell_type": "markdown",
   "metadata": {},
   "source": [
    "5. Converta para números inteiros."
   ]
  },
  {
   "cell_type": "code",
   "execution_count": null,
   "metadata": {},
   "outputs": [],
   "source": [
    "fib = fib.astype(int) \n",
    "print(\"Inteiros\", fib)"
   ]
  },
  {
   "attachments": {},
   "cell_type": "markdown",
   "metadata": {},
   "source": [
    "6. Selecione os termos de valor par."
   ]
  },
  {
   "attachments": {},
   "cell_type": "markdown",
   "metadata": {},
   "source": [
    "A receita exige que selecionemos os termos de valor par agora. Isso deve\n",
    "ser fácil para você,"
   ]
  },
  {
   "cell_type": "code",
   "execution_count": null,
   "metadata": {},
   "outputs": [],
   "source": [
    "eventerms = fib[fib % 2 == 0] \n",
    "print(eventerms)"
   ]
  },
  {
   "cell_type": "code",
   "execution_count": null,
   "metadata": {},
   "outputs": [],
   "source": [
    "# O código completo\n",
    "\n",
    "import numpy\n",
    "\n",
    "#Each new term in the Fibonacci sequence is generated by adding the previous #By starting with 1 and 2, the first 10 terms will be:\n",
    "#1, 2, 3, 5, 8, 13, 21, 34, 55, 89, ...\n",
    "#By considering the terms in the Fibonacci sequence whose values do not #find the sum of the even-valued terms.\n",
    "\n",
    "#1. Calculate phi\n",
    "phi = (1 + numpy.sqrt(5))/2\n",
    "print(\"Phi\"), phi\n",
    "\n",
    "#2. Find the index below 4 million\n",
    "n = numpy.log(4 10 * 6 numpy.sqrt(5) + 0.5)/numpy.log(phi)\n",
    "print(n)\n",
    "\n",
    "#3. Create an array of 1-n\n",
    "n = numpy.arange(1, n)\n",
    "print(n)\n",
    "\n",
    "#4. Compute Fibonacci numbers\n",
    "fib = (phi*n - (-1/phi)**n)/numpy.sqrt(5)\n",
    "print(\"First 9 Fibonacci Numbers\", fib[:9])\n",
    "\n",
    "#5. Convert to integers\n",
    "# optional\n",
    "fib = fib.astype(int)\n",
    "print(\"Integers\", fib)\n",
    "\n",
    "#6. Select even-valued terms\n",
    "eventerms = fib[fib % 2 == 0]\n",
    "print(eventerms)\n",
    "\n",
    "#7. Sum the selected terms\n",
    "print(eventerms.sum())"
   ]
  },
  {
   "cell_type": "markdown",
   "metadata": {},
   "source": []
  },
  {
   "cell_type": "code",
   "execution_count": null,
   "metadata": {},
   "outputs": [],
   "source": [
    "%reload_ext watermark\n",
    "%watermark -a \"Caique Miranda\" -gu \"caiquemiranda\" -iv"
   ]
  },
  {
   "attachments": {},
   "cell_type": "markdown",
   "metadata": {},
   "source": [
    "### End."
   ]
  }
 ],
 "metadata": {
  "language_info": {
   "name": "python"
  },
  "orig_nbformat": 4
 },
 "nbformat": 4,
 "nbformat_minor": 2
}
