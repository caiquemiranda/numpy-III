{
 "cells": [
  {
   "cell_type": "code",
   "execution_count": null,
   "metadata": {},
   "outputs": [],
   "source": [
    "# Versão da Linguagem Python\n",
    "from platform import python_version\n",
    "print('Versão de Python Neste Jupyter Notebook:', python_version())"
   ]
  },
  {
   "cell_type": "code",
   "execution_count": 2,
   "metadata": {},
   "outputs": [],
   "source": [
    "import numpy as np"
   ]
  },
  {
   "attachments": {},
   "cell_type": "markdown",
   "metadata": {},
   "source": [
    "### Funções comumente usadas"
   ]
  },
  {
   "attachments": {},
   "cell_type": "markdown",
   "metadata": {},
   "source": [
    "- `sqrt`, `log`, `arange`, `astype` e `sum`\n",
    "- `ceil`, `modf`, `where`, `ravel`, and `take`\n",
    "- `sort` and `outer`\n",
    "- `diff`, `sign`, `eig`\n",
    "- `histogram` and `polyfit`\n",
    "- `compress` and `randint`"
   ]
  },
  {
   "attachments": {},
   "cell_type": "markdown",
   "metadata": {},
   "source": [
    "- Somar números de Fibonacci\n",
    "- Encontrando fatores primos\n",
    "- Encontrando números palíndromos\n",
    "- A determinação do vetor de estado estacionário\n",
    "- Descobrindo uma lei de potência\n",
    "- Negociando periodicamente em quedas\n",
    "- Simulando negociação aleatoriamente\n",
    "- Peneirando números inteiros com a Peneira de Eratóstenes"
   ]
  },
  {
   "attachments": {},
   "cell_type": "markdown",
   "metadata": {},
   "source": [
    "#### Números de Fibonacci"
   ]
  },
  {
   "attachments": {},
   "cell_type": "markdown",
   "metadata": {},
   "source": [
    "somaremos os termos de valor par na sequência de Fibonacci cujos valores não excedam quatro milhões. A série de Fibonacci é uma sequência de inteiros começando com zero, onde cada número é a soma dos dois anteriores; exceto, é claro, os dois primeiros números zero e um."
   ]
  },
  {
   "attachments": {},
   "cell_type": "markdown",
   "metadata": {},
   "source": [
    "1. Calcularemos a proporção áurea."
   ]
  },
  {
   "cell_type": "code",
   "execution_count": 3,
   "metadata": {},
   "outputs": [
    {
     "name": "stdout",
     "output_type": "stream",
     "text": [
      "Phi 1.618033988749895\n"
     ]
    }
   ],
   "source": [
    "# Estaremos usando a função sqrt para calcular a raiz quadrada de cinco:\n",
    "\n",
    "phi = (1 + np.sqrt(5))/2 \n",
    "print(\"Phi\", phi)"
   ]
  },
  {
   "attachments": {},
   "cell_type": "markdown",
   "metadata": {},
   "source": [
    "2. Encontre o índice abaixo de quatro milhões."
   ]
  },
  {
   "attachments": {},
   "cell_type": "markdown",
   "metadata": {},
   "source": [
    "Precisamos encontrar o índice do número de Fibonacci abaixo de quatro milhões. Uma fórmula para isso é fornecida na página da Wikipedia e vamos calculá-la usando essa fórmula. Tudo o que precisamos fazer é converter as bases de log com a função log . Não precisamos arredondar o resultado para o inteiro mais próximo."
   ]
  },
  {
   "attachments": {},
   "cell_type": "markdown",
   "metadata": {},
   "source": [
    "Isso é feito automaticamente para nós na próxima etapa:"
   ]
  },
  {
   "cell_type": "code",
   "execution_count": null,
   "metadata": {},
   "outputs": [],
   "source": [
    "n = np.log(4 10 * 6 * np.sqrt(5) + 0.5) / np.log(phi)\n",
    "print(n)"
   ]
  },
  {
   "attachments": {},
   "cell_type": "markdown",
   "metadata": {},
   "source": [
    "3. Crie uma matriz de 1-n."
   ]
  },
  {
   "attachments": {},
   "cell_type": "markdown",
   "metadata": {},
   "source": [
    "A função arange é uma função muito básica, vamos mencioná-la aqui para completar:"
   ]
  },
  {
   "cell_type": "code",
   "execution_count": 8,
   "metadata": {},
   "outputs": [],
   "source": [
    "n = np.arange(1, n)"
   ]
  },
  {
   "attachments": {},
   "cell_type": "markdown",
   "metadata": {},
   "source": [
    "4. Calcule os números de Fibonacci."
   ]
  },
  {
   "attachments": {},
   "cell_type": "markdown",
   "metadata": {},
   "source": [
    "Existe uma fórmula conveniente que podemos usar para calcular os números de Fibonacci. Vamos precisar da proporção áurea e da matriz da etapa anterior como parâmetros de entrada."
   ]
  },
  {
   "cell_type": "code",
   "execution_count": 9,
   "metadata": {},
   "outputs": [
    {
     "name": "stdout",
     "output_type": "stream",
     "text": [
      "Primeiros 9 números de Fibonacci [ 1.  1.  2.  3.  5.  8. 13. 21. 34.]\n"
     ]
    }
   ],
   "source": [
    "# Imprima os nove primeiros números de Fibonacci para verificar o resultado:\n",
    "\n",
    "fib = (phi**n - (-1/phi)**n)/np.sqrt(5) \n",
    "print(\"Primeiros 9 números de Fibonacci\", fib[:9])"
   ]
  },
  {
   "attachments": {},
   "cell_type": "markdown",
   "metadata": {},
   "source": [
    "5. Converta para números inteiros."
   ]
  },
  {
   "cell_type": "code",
   "execution_count": 10,
   "metadata": {},
   "outputs": [
    {
     "name": "stdout",
     "output_type": "stream",
     "text": [
      "Inteiros [  1   1   2   3   5   8  13  21  34  55  89 144 233]\n"
     ]
    }
   ],
   "source": [
    "fib = fib.astype(int) \n",
    "print(\"Inteiros\", fib)"
   ]
  },
  {
   "attachments": {},
   "cell_type": "markdown",
   "metadata": {},
   "source": [
    "6. Selecione os termos de valor par."
   ]
  },
  {
   "attachments": {},
   "cell_type": "markdown",
   "metadata": {},
   "source": [
    "A receita exige que selecionemos os termos de valor par agora."
   ]
  },
  {
   "cell_type": "code",
   "execution_count": 11,
   "metadata": {},
   "outputs": [
    {
     "name": "stdout",
     "output_type": "stream",
     "text": [
      "[  2   8  34 144]\n"
     ]
    }
   ],
   "source": [
    "# Valores par\n",
    "\n",
    "eventerms = fib[fib % 2 == 0] \n",
    "print(eventerms)"
   ]
  },
  {
   "cell_type": "code",
   "execution_count": 12,
   "metadata": {},
   "outputs": [
    {
     "ename": "SyntaxError",
     "evalue": "invalid syntax. Perhaps you forgot a comma? (2105892906.py, line 16)",
     "output_type": "error",
     "traceback": [
      "\u001b[1;36m  Input \u001b[1;32mIn [12]\u001b[1;36m\u001b[0m\n\u001b[1;33m    n = numpy.log(4 * 10 * 6 numpy.sqrt(5) + 0.5)/numpy.log(phi)\u001b[0m\n\u001b[1;37m                  ^\u001b[0m\n\u001b[1;31mSyntaxError\u001b[0m\u001b[1;31m:\u001b[0m invalid syntax. Perhaps you forgot a comma?\n"
     ]
    }
   ],
   "source": [
    "# O código completo\n",
    "\n",
    "import numpy\n",
    "\n",
    "# Cada novo termo na sequência de Fibonacci é gerado pela adição do pré\n",
    "# Começando com 1 e 2, os primeiros 10 termos serão:\n",
    "# 1, 2, 3, 5, 8, 13, 21, 34, 55, 89, ...\n",
    "# Considerando os termos da sequência de Fibonacci cujos valores não\n",
    "# Encontram a soma dos termos de valor par.\n",
    "\n",
    "#1. Calcule phi\n",
    "phi = (1 + numpy.sqrt(5))/2\n",
    "print(\"Phi\"), phi\n",
    "\n",
    "#2. Encontre o índice abaixo de 4 milhões\n",
    "n = numpy.log(4 10 * 6 numpy.sqrt(5) + 0.5)/numpy.log(phi)\n",
    "print(n)\n",
    "\n",
    "#3. Crie uma matriz de 1-n\n",
    "n = numpy.arange(1, n)\n",
    "print(n)\n",
    "\n",
    "#4. Calcule os números de Fibonacci\n",
    "fib = (phi*n - (-1/phi)**n)/numpy.sqrt(5)\n",
    "print(\"First 9 Fibonacci Numbers\", fib[:9])\n",
    "\n",
    "#5. Converter para inteiros \n",
    "# Opcional\n",
    "fib = fib.astype(int)\n",
    "print(\"Integers\", fib)\n",
    "\n",
    "#6. Selecione termos pares\n",
    "eventerms = fib[fib % 2 == 0]\n",
    "print(eventerms)\n",
    "\n",
    "#7. Some os termos selecionados\n",
    "print(eventerms.sum())"
   ]
  },
  {
   "cell_type": "markdown",
   "metadata": {},
   "source": []
  },
  {
   "cell_type": "code",
   "execution_count": null,
   "metadata": {},
   "outputs": [],
   "source": [
    "%reload_ext watermark\n",
    "%watermark -a \"Caique Miranda\" -gu \"caiquemiranda\" -iv"
   ]
  },
  {
   "attachments": {},
   "cell_type": "markdown",
   "metadata": {},
   "source": [
    "### End."
   ]
  }
 ],
 "metadata": {
  "kernelspec": {
   "display_name": "Python 3",
   "language": "python",
   "name": "python3"
  },
  "language_info": {
   "codemirror_mode": {
    "name": "ipython",
    "version": 3
   },
   "file_extension": ".py",
   "mimetype": "text/x-python",
   "name": "python",
   "nbconvert_exporter": "python",
   "pygments_lexer": "ipython3",
   "version": "3.10.5"
  },
  "orig_nbformat": 4
 },
 "nbformat": 4,
 "nbformat_minor": 2
}
