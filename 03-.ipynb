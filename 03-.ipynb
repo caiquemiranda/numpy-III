{
 "cells": [
  {
   "cell_type": "code",
   "execution_count": 1,
   "metadata": {},
   "outputs": [
    {
     "name": "stdout",
     "output_type": "stream",
     "text": [
      "Versão de Python Neste Jupyter Notebook: 3.10.5\n"
     ]
    }
   ],
   "source": [
    "# Versão da Linguagem Python\n",
    "from platform import python_version\n",
    "print('Versão de Python Neste Jupyter Notebook:', python_version())"
   ]
  },
  {
   "cell_type": "code",
   "execution_count": 2,
   "metadata": {},
   "outputs": [],
   "source": [
    "import numpy as np"
   ]
  },
  {
   "attachments": {},
   "cell_type": "markdown",
   "metadata": {},
   "source": [
    "### Funções comumente usadas"
   ]
  },
  {
   "attachments": {},
   "cell_type": "markdown",
   "metadata": {},
   "source": [
    "- `sqrt`, `log`, `arange`, `astype` e `sum`\n",
    "- `ceil`, `modf`, `where`, `ravel`, and `take`\n",
    "- `sort` and `outer`\n",
    "- `diff`, `sign`, `eig`\n",
    "- `histogram` and `polyfit`\n",
    "- `compress` and `randint`"
   ]
  },
  {
   "attachments": {},
   "cell_type": "markdown",
   "metadata": {},
   "source": [
    "- Somar números de Fibonacci\n",
    "- Encontrando fatores primos\n",
    "- Encontrando números palíndromos\n",
    "- A determinação do vetor de estado estacionário\n",
    "- Descobrindo uma lei de potência\n",
    "- Negociando periodicamente em quedas\n",
    "- Simulando negociação aleatoriamente\n",
    "- Peneirando números inteiros com a Peneira de Eratóstenes"
   ]
  },
  {
   "attachments": {},
   "cell_type": "markdown",
   "metadata": {},
   "source": [
    "### Números de Fibonacci"
   ]
  },
  {
   "attachments": {},
   "cell_type": "markdown",
   "metadata": {},
   "source": [
    "somaremos os termos de valor par na sequência de Fibonacci cujos valores não excedam quatro milhões. A série de Fibonacci é uma sequência de inteiros começando com zero, onde cada número é a soma dos dois anteriores; exceto, é claro, os dois primeiros números zero e um."
   ]
  },
  {
   "attachments": {},
   "cell_type": "markdown",
   "metadata": {},
   "source": [
    "1. Calcularemos a proporção áurea."
   ]
  },
  {
   "cell_type": "code",
   "execution_count": 3,
   "metadata": {},
   "outputs": [
    {
     "name": "stdout",
     "output_type": "stream",
     "text": [
      "Phi 1.618033988749895\n"
     ]
    }
   ],
   "source": [
    "# Estaremos usando a função sqrt para calcular a raiz quadrada de cinco:\n",
    "\n",
    "phi = (1 + np.sqrt(5))/2 \n",
    "print(\"Phi\", phi)"
   ]
  },
  {
   "attachments": {},
   "cell_type": "markdown",
   "metadata": {},
   "source": [
    "2. Encontre o índice abaixo de quatro milhões."
   ]
  },
  {
   "attachments": {},
   "cell_type": "markdown",
   "metadata": {},
   "source": [
    "Precisamos encontrar o índice do número de Fibonacci abaixo de quatro milhões. Uma fórmula para isso é fornecida na página da Wikipedia e vamos calculá-la usando essa fórmula. Tudo o que precisamos fazer é converter as bases de log com a função log . Não precisamos arredondar o resultado para o inteiro mais próximo."
   ]
  },
  {
   "attachments": {},
   "cell_type": "markdown",
   "metadata": {},
   "source": [
    "Isso é feito automaticamente para nós na próxima etapa:"
   ]
  },
  {
   "cell_type": "code",
   "execution_count": 4,
   "metadata": {},
   "outputs": [
    {
     "name": "stdout",
     "output_type": "stream",
     "text": [
      "34.20410973929552\n"
     ]
    }
   ],
   "source": [
    "n = np.log(4 ** 10 * 6 * np.sqrt(5) + 0.5) / np.log(phi)\n",
    "print(n)"
   ]
  },
  {
   "attachments": {},
   "cell_type": "markdown",
   "metadata": {},
   "source": [
    "3. Crie uma matriz de 1-n."
   ]
  },
  {
   "attachments": {},
   "cell_type": "markdown",
   "metadata": {},
   "source": [
    "A função arange é uma função muito básica, vamos mencioná-la aqui para completar:"
   ]
  },
  {
   "cell_type": "code",
   "execution_count": 5,
   "metadata": {},
   "outputs": [],
   "source": [
    "n = np.arange(1, n)"
   ]
  },
  {
   "attachments": {},
   "cell_type": "markdown",
   "metadata": {},
   "source": [
    "4. Calcule os números de Fibonacci."
   ]
  },
  {
   "attachments": {},
   "cell_type": "markdown",
   "metadata": {},
   "source": [
    "Existe uma fórmula conveniente que podemos usar para calcular os números de Fibonacci. Vamos precisar da proporção áurea e da matriz da etapa anterior como parâmetros de entrada."
   ]
  },
  {
   "cell_type": "code",
   "execution_count": 6,
   "metadata": {},
   "outputs": [
    {
     "name": "stdout",
     "output_type": "stream",
     "text": [
      "Primeiros 9 números de Fibonacci [ 1.  1.  2.  3.  5.  8. 13. 21. 34.]\n"
     ]
    }
   ],
   "source": [
    "# Imprima os nove primeiros números de Fibonacci para verificar o resultado:\n",
    "\n",
    "fib = (phi**n - (-1/phi)**n)/np.sqrt(5) \n",
    "print(\"Primeiros 9 números de Fibonacci\", fib[:9])"
   ]
  },
  {
   "attachments": {},
   "cell_type": "markdown",
   "metadata": {},
   "source": [
    "5. Converta para números inteiros."
   ]
  },
  {
   "cell_type": "code",
   "execution_count": 7,
   "metadata": {},
   "outputs": [
    {
     "name": "stdout",
     "output_type": "stream",
     "text": [
      "Inteiros [      1       1       2       3       5       8      13      21      34\n",
      "      55      89     144     233     377     610     987    1597    2584\n",
      "    4181    6765   10946   17711   28657   46368   75025  121393  196418\n",
      "  317811  514229  832040 1346269 2178309 3524578 5702887]\n"
     ]
    }
   ],
   "source": [
    "fib = fib.astype(int) \n",
    "print(\"Inteiros\", fib)"
   ]
  },
  {
   "attachments": {},
   "cell_type": "markdown",
   "metadata": {},
   "source": [
    "6. Selecione os termos de valor par."
   ]
  },
  {
   "attachments": {},
   "cell_type": "markdown",
   "metadata": {},
   "source": [
    "A receita exige que selecionemos os termos de valor par agora."
   ]
  },
  {
   "cell_type": "code",
   "execution_count": 8,
   "metadata": {},
   "outputs": [
    {
     "name": "stdout",
     "output_type": "stream",
     "text": [
      "[      2       8      34     144     610    2584   10946   46368  196418\n",
      "  832040 3524578]\n"
     ]
    }
   ],
   "source": [
    "# Valores par\n",
    "\n",
    "eventerms = fib[fib % 2 == 0] \n",
    "print(eventerms)"
   ]
  },
  {
   "cell_type": "code",
   "execution_count": 9,
   "metadata": {},
   "outputs": [
    {
     "name": "stdout",
     "output_type": "stream",
     "text": [
      "Phi\n",
      "34.20410973929552\n",
      "[ 1.  2.  3.  4.  5.  6.  7.  8.  9. 10. 11. 12. 13. 14. 15. 16. 17. 18.\n",
      " 19. 20. 21. 22. 23. 24. 25. 26. 27. 28. 29. 30. 31. 32. 33. 34.]\n",
      "First 9 Fibonacci Numbers [1.         1.2763932  2.2763932  2.82917961 3.65835921 4.31671843\n",
      " 5.08065045 5.77933489 6.51834455]\n",
      "Integers [ 1  1  2  2  3  4  5  5  6  7  7  8  9 10 10 11 12 13 13 14 15 15 16 17\n",
      " 18 18 19 20 20 21 22 23 23 24]\n",
      "[ 2  2  4  6  8 10 10 12 14 16 18 18 20 20 22 24]\n",
      "206\n"
     ]
    }
   ],
   "source": [
    "# O código completo\n",
    "\n",
    "import numpy\n",
    "\n",
    "# Cada novo termo na sequência de Fibonacci é gerado pela adição do pré\n",
    "# Começando com 1 e 2, os primeiros 10 termos serão:\n",
    "# 1, 2, 3, 5, 8, 13, 21, 34, 55, 89, ...\n",
    "# Considerando os termos da sequência de Fibonacci cujos valores não\n",
    "# Encontram a soma dos termos de valor par.\n",
    "\n",
    "#1. Calcule phi\n",
    "phi = (1 + numpy.sqrt(5))/2\n",
    "print(\"Phi\"), phi\n",
    "\n",
    "#2. Encontre o índice abaixo de 4 milhões\n",
    "n = np.log(4 ** 10 * 6 * np.sqrt(5) + 0.5) / np.log(phi)\n",
    "print(n)\n",
    "\n",
    "#3. Crie uma matriz de 1-n\n",
    "n = numpy.arange(1, n)\n",
    "print(n)\n",
    "\n",
    "#4. Calcule os números de Fibonacci\n",
    "fib = (phi*n - (-1/phi)**n)/numpy.sqrt(5)\n",
    "print(\"First 9 Fibonacci Numbers\", fib[:9])\n",
    "\n",
    "#5. Converter para inteiros \n",
    "# Opcional\n",
    "fib = fib.astype(int)\n",
    "print(\"Integers\", fib)\n",
    "\n",
    "#6. Selecione termos pares\n",
    "eventerms = fib[fib % 2 == 0]\n",
    "print(eventerms)\n",
    "\n",
    "#7. Some os termos selecionados\n",
    "print(eventerms.sum())"
   ]
  },
  {
   "attachments": {},
   "cell_type": "markdown",
   "metadata": {},
   "source": [
    "#### Funções utilizadas "
   ]
  },
  {
   "attachments": {},
   "cell_type": "markdown",
   "metadata": {},
   "source": [
    "Função | Descrição\n",
    "---|---\n",
    "`sqrt()` | Calcula a raiz quadrada dos elementos da matriz.\n",
    "`log()` | Calcula o logaritmo natural dos elementos da matriz.\n",
    "`arange()` | Cria uma matriz com um intervalo especificado.\n",
    "`astype()` | Converte elementos da matriz em um tipo de dados especificado.\n",
    "`sum()` | Calcula a soma dos elementos da matriz."
   ]
  },
  {
   "attachments": {},
   "cell_type": "markdown",
   "metadata": {},
   "source": [
    "### Encontrando fatores primos"
   ]
  },
  {
   "attachments": {},
   "cell_type": "markdown",
   "metadata": {},
   "source": [
    "Fatores primos são números primos que dividem um inteiro exatamente sem deixar resto. Encontrar fatores primos parece quase impossível de decifrar. usando o algoritmo certo - o método de fatoração de Fermat e NumPy - torna-se muito fácil. A ideia é fatorar um número N em dois números c e d."
   ]
  },
  {
   "attachments": {},
   "cell_type": "markdown",
   "metadata": {},
   "source": [
    "Podemos aplicar a fatoração recursivamente, até obtermos os fatores primos necessários."
   ]
  },
  {
   "attachments": {},
   "cell_type": "markdown",
   "metadata": {},
   "source": [
    "O algoritmo exige que tentemos vários valores de teste para a."
   ]
  },
  {
   "attachments": {},
   "cell_type": "markdown",
   "metadata": {},
   "source": [
    "1. Crie uma matriz de valores de teste."
   ]
  },
  {
   "attachments": {},
   "cell_type": "markdown",
   "metadata": {},
   "source": [
    "Faz sentido criar um array NumPy e eliminar a necessidade de\n",
    "loops. No entanto, você deve ter cuidado para não criar uma matriz\n",
    "muito grande em termos de requisitos de memória. No meu sistema,\n",
    "uma matriz de um milhão de elementos parece ter o tamanho certo:"
   ]
  },
  {
   "cell_type": "code",
   "execution_count": null,
   "metadata": {},
   "outputs": [],
   "source": [
    "a = numpy.ceil(numpy.sqrt(n))\n",
    "lim = min(n, LIM)\n",
    "a = numpy.arange(a, a + lim)\n",
    "b2 = a ** 2 - n"
   ]
  },
  {
   "attachments": {},
   "cell_type": "markdown",
   "metadata": {},
   "source": [
    "Usamos a função ceil para retornar o teto da entrada, elemento a elemento."
   ]
  },
  {
   "attachments": {},
   "cell_type": "markdown",
   "metadata": {},
   "source": [
    "- Obtenha a parte fracionária da matriz b.\n",
    "  Agora devemos verificar se b é um quadrado. Use a função modf NumPy\n",
    "para obter a parte fracionária da matriz b :"
   ]
  },
  {
   "cell_type": "code",
   "execution_count": null,
   "metadata": {},
   "outputs": [],
   "source": [
    "frações = numpy.modf(numpy.sqrt(b2))[0]"
   ]
  },
  {
   "attachments": {},
   "cell_type": "markdown",
   "metadata": {},
   "source": [
    "- Encontre 0 frações.\n",
    "Chame a função NumPy where para encontrar os índices de frações zero, onde a\n",
    "parte fracionária é 0:"
   ]
  },
  {
   "cell_type": "code",
   "execution_count": null,
   "metadata": {},
   "outputs": [],
   "source": [
    "índices = numpy.where(frações == 0)"
   ]
  },
  {
   "attachments": {},
   "cell_type": "markdown",
   "metadata": {},
   "source": [
    "- Encontre a primeira ocorrência de uma fração zero."
   ]
  },
  {
   "attachments": {},
   "cell_type": "markdown",
   "metadata": {},
   "source": [
    "precisamos apenas da primeira ocorrência de uma fração zero.\n",
    "Primeiro, chame a função NumPy take com a matriz de índices da etapa\n",
    "anterior para obter os valores das frações zero. Agora precisamos \"achatar\" esse\n",
    "array com a função NumPy ravel :"
   ]
  },
  {
   "cell_type": "code",
   "execution_count": null,
   "metadata": {},
   "outputs": [],
   "source": [
    "a = numpy.ravel(numpy.take(a, índices))[0]"
   ]
  },
  {
   "attachments": {},
   "cell_type": "markdown",
   "metadata": {},
   "source": [
    "A seguir está todo o código necessário para resolver o problema de encontrar o\n",
    "maior fator primo do número 600851475143:"
   ]
  },
  {
   "cell_type": "code",
   "execution_count": null,
   "metadata": {},
   "outputs": [],
   "source": [
    "import numpy\n",
    "#The prime factors of 13195 are 5, 7, 13 and 29.\n",
    "#What is the largest prime factor of the number 600851475143 ?\n",
    "N = 600851475143\n",
    "LIM = 10 ** 6\n",
    "def factor(n):\n",
    "    #1. Create array of trial values\n",
    "    a = numpy.ceil(numpy.sqrt(n))\n",
    "    lim = min(n, LIM)\n",
    "    a = numpy.arange(a, a + lim)\n",
    "    b2 = a ** 2 - n\n",
    "    #2. Check whether b is a square\n",
    "    fractions = numpy.modf(numpy.sqrt(b2))[0]\n",
    "    #3. Find 0 fractions\n",
    "    indices = numpy.where(fractions == 0)\n",
    "    #4. Find the first occurrence of a 0 fraction\n",
    "    a = numpy.ravel(numpy.take(a, indices))[0]\n",
    "    a = int(a)\n",
    "    b = numpy.sqrt(a ** 2 - n)\n",
    "    b = int(b)\n",
    "    c = a + b\n",
    "    d = a - b\n",
    "    if c == 1 or d == 1:\n",
    "        return\n",
    "    print c, d\n",
    "    factor(c)\n",
    "    factor(d)\n",
    "\n",
    "factor(N)"
   ]
  },
  {
   "attachments": {},
   "cell_type": "markdown",
   "metadata": {},
   "source": [
    "Aplicamos a fatoração Fermat recursivamente usando as funções NumPy ceil, modf,\n",
    "where, ravel e take."
   ]
  },
  {
   "attachments": {},
   "cell_type": "markdown",
   "metadata": {},
   "source": [
    "#### Funções utilizadas "
   ]
  },
  {
   "attachments": {},
   "cell_type": "markdown",
   "metadata": {},
   "source": [
    "Function | Description\n",
    "---|---\n",
    "`ceil()` | Calcula o teto dos elementos do array.\n",
    "`modf()` | Retorna a parte fracionária e integral de números de ponto flutuante.\n",
    "`where()` | Retorna índices de matriz com base na condição.\n",
    "`ravel()` | Retorna uma matriz achatada.\n",
    "`take()` | Recebe elemento de um array."
   ]
  },
  {
   "cell_type": "markdown",
   "metadata": {},
   "source": []
  },
  {
   "cell_type": "markdown",
   "metadata": {},
   "source": []
  },
  {
   "cell_type": "markdown",
   "metadata": {},
   "source": []
  },
  {
   "cell_type": "markdown",
   "metadata": {},
   "source": []
  },
  {
   "cell_type": "markdown",
   "metadata": {},
   "source": []
  },
  {
   "cell_type": "markdown",
   "metadata": {},
   "source": []
  },
  {
   "cell_type": "markdown",
   "metadata": {},
   "source": []
  },
  {
   "cell_type": "markdown",
   "metadata": {},
   "source": []
  },
  {
   "cell_type": "markdown",
   "metadata": {},
   "source": []
  },
  {
   "cell_type": "code",
   "execution_count": 10,
   "metadata": {},
   "outputs": [
    {
     "name": "stdout",
     "output_type": "stream",
     "text": [
      "Author: Caique Miranda\n",
      "\n",
      "Github username: caiquemiranda\n",
      "\n",
      "numpy: 1.23.0\n",
      "\n"
     ]
    }
   ],
   "source": [
    "%reload_ext watermark\n",
    "%watermark -a \"Caique Miranda\" -gu \"caiquemiranda\" -iv"
   ]
  },
  {
   "attachments": {},
   "cell_type": "markdown",
   "metadata": {},
   "source": [
    "### End."
   ]
  }
 ],
 "metadata": {
  "kernelspec": {
   "display_name": "Python 3",
   "language": "python",
   "name": "python3"
  },
  "language_info": {
   "codemirror_mode": {
    "name": "ipython",
    "version": 3
   },
   "file_extension": ".py",
   "mimetype": "text/x-python",
   "name": "python",
   "nbconvert_exporter": "python",
   "pygments_lexer": "ipython3",
   "version": "3.10.5"
  },
  "orig_nbformat": 4
 },
 "nbformat": 4,
 "nbformat_minor": 2
}
