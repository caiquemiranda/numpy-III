{
 "cells": [
  {
   "cell_type": "code",
   "execution_count": null,
   "metadata": {},
   "outputs": [],
   "source": [
    "# Versão da Linguagem Python\n",
    "from platform import python_version\n",
    "print('Versão de Python Neste Jupyter Notebook:', python_version())"
   ]
  },
  {
   "attachments": {},
   "cell_type": "markdown",
   "metadata": {},
   "source": [
    "- Usando o IPython com o shell\n",
    "- Lendo páginas de manual\n",
    "- Instalando Matplotlib\n",
    "- Execultando um bloco de anotações da web\n",
    "- Exportando um bloco de anotações da web\n",
    "- Importando um bloco de anotações da web\n",
    "- Configurando um servidor de notebook\n",
    "- Explorando o perfil SymPy"
   ]
  },
  {
   "attachments": {},
   "cell_type": "markdown",
   "metadata": {},
   "source": [
    "### Usando o IPython como um shell"
   ]
  },
  {
   "attachments": {},
   "cell_type": "markdown",
   "metadata": {},
   "source": [
    "Cientistas e engenheiros estão acostumados a experimentar. IPython foi criado\n",
    "por cientistas com experimentação em mente. O ambiente interativo que o IPython\n",
    "fornece é visto por muitos como uma resposta direta ao Matlab, Mathematica e\n",
    "Maple e R."
   ]
  },
  {
   "attachments": {},
   "cell_type": "markdown",
   "metadata": {},
   "source": [
    "A seguir está uma lista de recursos do shell IPython:\n",
    "\n",
    "- Preenchimento de tabulação\n",
    "- Mecanismo de histórico\n",
    "- Edição em linha\n",
    "- Capacidade de chamar scripts Python externos com `%run`\n",
    "- Acesso aos comandos do sistema\n",
    "- O interruptor pylab\n",
    "- Acesso ao depurador e criador de perfil do Python"
   ]
  },
  {
   "attachments": {},
   "cell_type": "markdown",
   "metadata": {},
   "source": [
    "- A opção pylab: A opção pylab importa automaticamente todos os pacotes Scipy,\n",
    "NumPy e Matplotlib . Sem essa opção, teríamos que importar esses pacotes nós\n",
    "mesmos."
   ]
  },
  {
   "attachments": {},
   "cell_type": "markdown",
   "metadata": {},
   "source": [
    "Tudo o que precisamos fazer é inserir a seguinte instrução na linha de\n",
    "comando:"
   ]
  },
  {
   "cell_type": "code",
   "execution_count": 3,
   "metadata": {},
   "outputs": [
    {
     "name": "stderr",
     "output_type": "stream",
     "text": [
      "usage: ipython [-h] [--debug] [--show-config] [--show-config-json] [--quiet]\n",
      "               [--init] [--autoindent] [--no-autoindent] [--automagic]\n",
      "               [--no-automagic] [--pdb] [--no-pdb] [--pprint] [--no-pprint]\n",
      "               [--color-info] [--no-color-info] [--ignore-cwd]\n",
      "               [--no-ignore-cwd] [--nosep] [--autoedit-syntax]\n",
      "               [--no-autoedit-syntax] [--simple-prompt] [--no-simple-prompt]\n",
      "               [--banner] [--no-banner] [--confirm-exit] [--no-confirm-exit]\n",
      "               [--term-title] [--no-term-title] [--classic] [--quick] [-i]\n",
      "               [--log-level TerminalIPythonApp.log_level]\n",
      "               [--profile-dir ProfileDir.location]\n",
      "               [--profile TerminalIPythonApp.profile]\n",
      "               [--ipython-dir TerminalIPythonApp.ipython_dir]\n",
      "               [--config TerminalIPythonApp.extra_config_file]\n",
      "               [--autocall TerminalInteractiveShell.autocall]\n",
      "               [--colors TerminalInteractiveShell.colors]\n",
      "               [--logfile TerminalInteractiveShell.logfile]\n",
      "               [--logappend TerminalInteractiveShell.logappend]\n",
      "               [-c TerminalIPythonApp.code_to_run]\n",
      "               [-m TerminalIPythonApp.module_to_run]\n",
      "               [--ext TerminalIPythonApp.extra_extensions]\n",
      "               [--gui TerminalIPythonApp.gui]\n",
      "               [--pylab [TerminalIPythonApp.pylab]]\n",
      "               [--matplotlib [TerminalIPythonApp.matplotlib]]\n",
      "               [--cache-size TerminalInteractiveShell.cache_size]\n",
      "               [extra_args ...]\n",
      "ipython: error: argument -pylab: expected one argument\n"
     ]
    }
   ],
   "source": [
    "!ipython -pylab"
   ]
  },
  {
   "attachments": {},
   "cell_type": "markdown",
   "metadata": {},
   "source": [
    "- Salvando uma sessão: Podemos querer poder voltar aos nossos experimentos. No\n",
    "IPython, é fácil salvar uma sessão para uso posterior, com o seguinte comando:"
   ]
  },
  {
   "cell_type": "code",
   "execution_count": 4,
   "metadata": {},
   "outputs": [
    {
     "name": "stdout",
     "output_type": "stream",
     "text": [
      "Activating auto-logging. Current session state plus future input saved.\n",
      "Filename       : ipython_log.py\n",
      "Mode           : rotate\n",
      "Output logging : False\n",
      "Raw input log  : False\n",
      "Timestamping   : False\n",
      "State          : active\n"
     ]
    }
   ],
   "source": [
    "%logstart"
   ]
  },
  {
   "attachments": {},
   "cell_type": "markdown",
   "metadata": {},
   "source": [
    "registro pode ser desativado da seguinte maneira:"
   ]
  },
  {
   "cell_type": "code",
   "execution_count": null,
   "metadata": {},
   "outputs": [],
   "source": [
    "%logoff"
   ]
  },
  {
   "attachments": {},
   "cell_type": "markdown",
   "metadata": {},
   "source": [
    "- Executando comandos do shell do sistema: Execute os comandos do shell do\n",
    "sistema no perfil padrão do IPython prefixando o comando com ! símbolo. Por exemplo, a\n",
    "seguinte entrada obterá a data atual:"
   ]
  },
  {
   "cell_type": "code",
   "execution_count": 6,
   "metadata": {},
   "outputs": [
    {
     "name": "stdout",
     "output_type": "stream",
     "text": [
      "^C\n"
     ]
    },
    {
     "name": "stdout",
     "output_type": "stream",
     "text": [
      "Data atual: 07/05/2023 \n",
      "Digite a nova data: (dd-mm-aa) \n"
     ]
    }
   ],
   "source": [
    "!date"
   ]
  },
  {
   "attachments": {},
   "cell_type": "markdown",
   "metadata": {},
   "source": [
    "Na verdade, qualquer linha prefixada com ! é enviado para o shell do sistema. Além\n",
    "disso, podemos armazenar a saída do comando, conforme mostrado aqui:"
   ]
  },
  {
   "cell_type": "code",
   "execution_count": null,
   "metadata": {},
   "outputs": [],
   "source": [
    "thedate = !date\n",
    "thedate"
   ]
  },
  {
   "attachments": {},
   "cell_type": "markdown",
   "metadata": {},
   "source": [
    "Exibindo o histórico: Podemos mostrar o histórico dos comandos com o\n",
    "comando %hist () por exemplo:"
   ]
  },
  {
   "cell_type": "code",
   "execution_count": null,
   "metadata": {},
   "outputs": [],
   "source": [
    "a = 2 + 3"
   ]
  },
  {
   "cell_type": "code",
   "execution_count": null,
   "metadata": {},
   "outputs": [],
   "source": [
    "a"
   ]
  },
  {
   "cell_type": "code",
   "execution_count": null,
   "metadata": {},
   "outputs": [],
   "source": [
    "%hist a"
   ]
  },
  {
   "attachments": {},
   "cell_type": "markdown",
   "metadata": {},
   "source": [
    "Esse é um recurso comum em ambientes de interface de linha\n",
    "de comando (CLI) . Também podemos pesquisar no histórico com a\n",
    "opção -g"
   ]
  },
  {
   "attachments": {},
   "cell_type": "markdown",
   "metadata": {},
   "source": [
    "Vimos várias das chamadas \"funções mágicas\" em ação. Essas funções\n",
    "começam com o caractere % . Se a função mágica for usada em uma linha\n",
    "sozinha, o prefixo % é opcional."
   ]
  },
  {
   "attachments": {},
   "cell_type": "markdown",
   "metadata": {},
   "source": [
    "### Lendo páginas de manual"
   ]
  },
  {
   "cell_type": "markdown",
   "metadata": {},
   "source": []
  },
  {
   "cell_type": "markdown",
   "metadata": {},
   "source": []
  },
  {
   "cell_type": "markdown",
   "metadata": {},
   "source": []
  },
  {
   "cell_type": "markdown",
   "metadata": {},
   "source": []
  },
  {
   "cell_type": "markdown",
   "metadata": {},
   "source": []
  },
  {
   "cell_type": "code",
   "execution_count": null,
   "metadata": {},
   "outputs": [],
   "source": [
    "%reload_ext watermark\n",
    "%watermark -a \"Caique Miranda\" -gu \"caiquemiranda\" -iv"
   ]
  },
  {
   "attachments": {},
   "cell_type": "markdown",
   "metadata": {},
   "source": [
    "### End."
   ]
  }
 ],
 "metadata": {
  "kernelspec": {
   "display_name": "Python 3",
   "language": "python",
   "name": "python3"
  },
  "language_info": {
   "codemirror_mode": {
    "name": "ipython",
    "version": 3
   },
   "file_extension": ".py",
   "mimetype": "text/x-python",
   "name": "python",
   "nbconvert_exporter": "python",
   "pygments_lexer": "ipython3",
   "version": "3.10.5"
  },
  "orig_nbformat": 4
 },
 "nbformat": 4,
 "nbformat_minor": 2
}
