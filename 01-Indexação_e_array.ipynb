{
 "cells": [
  {
   "cell_type": "code",
   "execution_count": null,
   "metadata": {},
   "outputs": [],
   "source": [
    "# Versão da Linguagem Python\n",
    "from platform import python_version\n",
    "print('Versão de Python Neste Jupyter Notebook:', python_version())"
   ]
  },
  {
   "attachments": {},
   "cell_type": "markdown",
   "metadata": {},
   "source": [
    "- Instalando o SciPy\n",
    "- Instalando o PIL\n",
    "- Redimensionando imagens\n",
    "- Comparando exibições e cópias\n",
    "- Lançando Lena\n",
    "- Indexação sofisticada\n",
    "- Indexação com uma lista de locais\n",
    "- Indexação com booleanos\n",
    "- Stride truques para Sudoku\n",
    "- matrizes de transmissão"
   ]
  },
  {
   "attachments": {},
   "cell_type": "markdown",
   "metadata": {},
   "source": [
    "O NumPy é famoso por seus arrays eficientes. Essa fama se deve em parte à facilidade de indexação. Demonstraremos truques avançados de indexação usando imagens. Antes de mergulhar na indexação, instalaremos o software necessário — SciPy e PIL."
   ]
  },
  {
   "attachments": {},
   "cell_type": "markdown",
   "metadata": {},
   "source": [
    "Alguns dos exemplos envolverão a manipulação de imagens. Para fazer isso, vamos exigir a imagem do Python."
   ]
  },
  {
   "attachments": {},
   "cell_type": "markdown",
   "metadata": {},
   "source": [
    "Biblioteca (PIL) ; mas não se preocupe, instruções e dicas para ajudá-lo a instalar o PIL e outros softwares Python necessários são fornecidos ao longo do capítulo, quando necessário."
   ]
  },
  {
   "attachments": {},
   "cell_type": "markdown",
   "metadata": {},
   "source": [
    "### Instalando o SciPy"
   ]
  },
  {
   "attachments": {},
   "cell_type": "markdown",
   "metadata": {},
   "source": [
    "SciPy é a biblioteca científica do Python e está intimamente relacionada ao NumPy.\n",
    "Há uma chance de você já ter instalado este software como parte da instalação do NumPy. SciPy e NumPy costumavam ser o mesmo projeto há muitos anos."
   ]
  },
  {
   "attachments": {},
   "cell_type": "markdown",
   "metadata": {},
   "source": [
    "- Instalando no Windows: Se você já tiver o Python instalado, o método\n",
    "preferido é baixar e usar a distribuição binária. Alternativamente, você pode querer instalar a distribuição Enthought Python, que vem com outro software Python científico pacotes."
   ]
  },
  {
   "attachments": {},
   "cell_type": "markdown",
   "metadata": {},
   "source": [
    "- Verifique sua instalação: Verifique a instalação do SciPy com o\n",
    "seguinte código:"
   ]
  },
  {
   "cell_type": "code",
   "execution_count": null,
   "metadata": {},
   "outputs": [],
   "source": [
    "import scipy\n",
    "print(scipy.__version__)\n",
    "print(scipy.__file__)"
   ]
  },
  {
   "attachments": {},
   "cell_type": "markdown",
   "metadata": {},
   "source": [
    "Isso deve imprimir a versão SciPy correta."
   ]
  },
  {
   "attachments": {},
   "cell_type": "markdown",
   "metadata": {},
   "source": [
    "### Instalando o PIL"
   ]
  },
  {
   "attachments": {},
   "cell_type": "markdown",
   "metadata": {},
   "source": [
    "PIL, a biblioteca de imagens Python, é um pré-requisito para os processamentos de imagem."
   ]
  },
  {
   "attachments": {},
   "cell_type": "markdown",
   "metadata": {},
   "source": [
    "- Installing PIL on Windows: Install using the Windows\n",
    "executable from the PIL website.\n",
    "\n",
    "http://www.pythonware.com/products/pil/."
   ]
  },
  {
   "attachments": {},
   "cell_type": "markdown",
   "metadata": {},
   "source": [
    "### Redimensionando imagens"
   ]
  },
  {
   "attachments": {},
   "cell_type": "markdown",
   "metadata": {},
   "source": [
    "carregaremos uma imagem de amostra de Lena, que está\n",
    "disponível na distribuição SciPy, em um array. A propósito, este capítulo não é\n",
    "sobre manipulação de imagens; usaremos apenas os dados da imagem como\n",
    "entrada."
   ]
  },
  {
   "attachments": {},
   "cell_type": "markdown",
   "metadata": {},
   "source": [
    "Vamos redimensionar a imagem usando a função de repetição . Essa função\n",
    "repete um array, o que na prática significa redimensionar a imagem por um\n",
    "determinado fator."
   ]
  },
  {
   "attachments": {},
   "cell_type": "markdown",
   "metadata": {},
   "source": [
    "1. Carregue a imagem Lena em um array."
   ]
  },
  {
   "attachments": {},
   "cell_type": "markdown",
   "metadata": {},
   "source": [
    "O SciPy possui uma função lena , que pode carregar a imagem em um Matriz NumPy:"
   ]
  },
  {
   "cell_type": "code",
   "execution_count": null,
   "metadata": {},
   "outputs": [],
   "source": [
    "lena = scipy.misc.lena()"
   ]
  },
  {
   "attachments": {},
   "cell_type": "markdown",
   "metadata": {},
   "source": [
    "Alguma refatoração ocorreu desde a versão 0.10, portanto, se você\n",
    "estiver usando uma versão mais antiga, o código correto é:"
   ]
  },
  {
   "cell_type": "code",
   "execution_count": null,
   "metadata": {},
   "outputs": [],
   "source": [
    "lena = scipy.lena()"
   ]
  },
  {
   "attachments": {},
   "cell_type": "markdown",
   "metadata": {},
   "source": [
    "2. Verifique a forma."
   ]
  },
  {
   "attachments": {},
   "cell_type": "markdown",
   "metadata": {},
   "source": [
    "Verifique a forma do array Lena usando a função assert_equal do\n",
    "pacote numpy.testing —este é um teste de verificação de sanidade\n",
    "opcional:"
   ]
  },
  {
   "cell_type": "code",
   "execution_count": null,
   "metadata": {},
   "outputs": [],
   "source": [
    "numpy.testing.assert_equal((LENA_X, LENA_Y), lena.shape)"
   ]
  },
  {
   "attachments": {},
   "cell_type": "markdown",
   "metadata": {},
   "source": [
    "3. Redimensione a matriz Lena."
   ]
  },
  {
   "attachments": {},
   "cell_type": "markdown",
   "metadata": {},
   "source": [
    "Redimensione o array Lena com a função repeat . Damos a esta função\n",
    "um fator de redimensionamento na direção x e y :"
   ]
  },
  {
   "cell_type": "code",
   "execution_count": null,
   "metadata": {},
   "outputs": [],
   "source": [
    "redimensionado = lena.repeat(yfactor, axis=0).repeat(xfactor, axis=1)"
   ]
  },
  {
   "attachments": {},
   "cell_type": "markdown",
   "metadata": {},
   "source": [
    "4. Plote as matrizes."
   ]
  },
  {
   "attachments": {},
   "cell_type": "markdown",
   "metadata": {},
   "source": [
    "Vamos plotar a imagem Lena e a imagem redimensionada em duas\n",
    "subtramas que fazem parte da mesma grade. Plote a matriz Lena em uma\n",
    "subtrama:"
   ]
  },
  {
   "cell_type": "code",
   "execution_count": null,
   "metadata": {},
   "outputs": [],
   "source": [
    "matplotlib.pyplot.subplot(211)\n",
    "matplotlib.pyplot.imshow(lena)"
   ]
  },
  {
   "attachments": {},
   "cell_type": "markdown",
   "metadata": {},
   "source": [
    "A função de subtrama do Matplotlib cria uma subtrama. Esta função\n",
    "aceita um inteiro de 3 dígitos como parâmetro, onde o primeiro dígito é o\n",
    "número de linhas, o segundo dígito é o número de colunas e o\n",
    "último dígito é o índice da subtrama começando com 1. A função\n",
    "imshow mostra imagens ."
   ]
  },
  {
   "attachments": {},
   "cell_type": "markdown",
   "metadata": {},
   "source": [
    "Por fim, a função show exibe o resultado final."
   ]
  },
  {
   "attachments": {},
   "cell_type": "markdown",
   "metadata": {},
   "source": [
    "Plote a matriz redimensionada em outra subtrama e exiba-a. O índice\n",
    "agora é 2:"
   ]
  },
  {
   "cell_type": "code",
   "execution_count": null,
   "metadata": {},
   "outputs": [],
   "source": [
    "matplotlib.pyplot.subplot(212)\n",
    "matplotlib.pyplot.imshow(redimensionado)\n",
    "matplotlib.pyplot.show()"
   ]
  },
  {
   "attachments": {},
   "cell_type": "markdown",
   "metadata": {},
   "source": [
    "A captura de tela a seguir é o resultado com a imagem original\n",
    "(primeira) e a imagem redimensionada (segunda):"
   ]
  },
  {
   "cell_type": "code",
   "execution_count": null,
   "metadata": {},
   "outputs": [],
   "source": [
    "# A seguir está o código completo para esta receita:\n",
    "\n",
    "import scipy.misc\n",
    "import sys\n",
    "import matplotlib.pyplot import\n",
    "numpy.testing\n",
    "# Este script redimensiona a imagem Lena do Scipy.\n",
    "if(len(sys.argv) != 3): print \"Uso\n",
    "python %s yfactor xfactor\" % (sys.argv[0]) sys.exit()\n",
    "\n",
    "# Carrega a imagem Lena em um array lena =\n",
    "lena = scipy.misc.lena()\n",
    "\n",
    "#Dimensões de Lena\n",
    "LENA_X = 512\n",
    "LENA_Y = 512\n",
    "#Verifique a forma do array Lena\n",
    "numpy.testing.assert_equal((LENA_X, LENA_Y), lena.shape)\n",
    "# Obtenha os fatores de\n",
    "redimensionamento yfactor =\n",
    "float(sys.argv[1]) xfactor = float(sys.argv[2])\n",
    "\n",
    "edimensione o array Lena\n",
    "resized = lena.repeat(yfactor, axis=0).repeat(xfactor, axis=1)\n",
    "#Verifique a forma do array redimensionado\n",
    "numpy.testing.assert_equal((yfactor LENA_Y, xfactor LENA_Y), redimensionado.\n",
    "\n",
    "# Plotar o array Lena\n",
    "matplotlib.pyplot.subplot(211)\n",
    "matplotlib.pyplot.imshow(lena)\n",
    "\n",
    "#Plote a matriz redimensionada\n",
    "matplotlib.pyplot.subplot(212)\n",
    "matplotlib.pyplot.imshow(resized)\n",
    "matplotlib.pyplot.show()\n"
   ]
  },
  {
   "attachments": {},
   "cell_type": "markdown",
   "metadata": {},
   "source": [
    "A função repeat repete arrays, o que, nesse caso, resultou na alteração do\n",
    "tamanho da imagem original. A função de subtrama do Matplotlib cria uma\n",
    "subtrama. A função imshow mostra imagens."
   ]
  },
  {
   "attachments": {},
   "cell_type": "markdown",
   "metadata": {},
   "source": [
    "Por fim, a função show exibe o resultado final."
   ]
  },
  {
   "attachments": {},
   "cell_type": "markdown",
   "metadata": {},
   "source": [
    "### Criando exibições e cópias"
   ]
  },
  {
   "attachments": {},
   "cell_type": "markdown",
   "metadata": {},
   "source": [
    "É importante saber quando estamos lidando com uma exibição de array compartilhada e\n",
    "quando temos uma cópia dos dados do array. Uma fatia, por exemplo, criará uma\n",
    "exibição. Isso significa que, se você atribuir a fatia a uma variável e depois alterar a\n",
    "matriz subjacente, o valor dessa variável será alterado. Vamos criar um array a partir\n",
    "da famosa imagem do Lena, copiar o array, criar uma view e, ao final, modificar a view."
   ]
  },
  {
   "attachments": {},
   "cell_type": "markdown",
   "metadata": {},
   "source": [
    "Os pré-requisitos são os mesmos da receita anterior."
   ]
  },
  {
   "attachments": {},
   "cell_type": "markdown",
   "metadata": {},
   "source": [
    "Vamos criar uma cópia e visualizações do array Lena:"
   ]
  },
  {
   "attachments": {},
   "cell_type": "markdown",
   "metadata": {},
   "source": [
    "1. Crie uma cópia do array Lena:"
   ]
  },
  {
   "cell_type": "code",
   "execution_count": null,
   "metadata": {},
   "outputs": [],
   "source": [
    "acopy = lena.copy()"
   ]
  },
  {
   "attachments": {},
   "cell_type": "markdown",
   "metadata": {},
   "source": [
    "2. Crie uma exibição da matriz:"
   ]
  },
  {
   "cell_type": "code",
   "execution_count": null,
   "metadata": {},
   "outputs": [],
   "source": [
    "aview = lena.view()"
   ]
  },
  {
   "attachments": {},
   "cell_type": "markdown",
   "metadata": {},
   "source": [
    "3. Defina todos os valores da exibição como 0 com um iterador simples:"
   ]
  },
  {
   "cell_type": "code",
   "execution_count": null,
   "metadata": {},
   "outputs": [],
   "source": [
    "aview.flat = 0"
   ]
  },
  {
   "attachments": {},
   "cell_type": "markdown",
   "metadata": {},
   "source": [
    "O resultado final é que apenas uma das imagens mostra a modelo da Playboy. Os\n",
    "outros são censurados completamente:"
   ]
  },
  {
   "attachments": {},
   "cell_type": "markdown",
   "metadata": {},
   "source": [
    "A seguir está o código deste tutorial mostrando o comportamento de\n",
    "visualizações e cópias de array:"
   ]
  },
  {
   "cell_type": "code",
   "execution_count": null,
   "metadata": {},
   "outputs": [],
   "source": [
    "import scipy.misc\n",
    "import matplotlib.pyplot\n",
    "\n",
    "lena = scipy.misc.lena() acopy =\n",
    "lena.copy() aview =\n",
    "lena.view()\n",
    "# Plotar o array Lena\n",
    "matplotlib.pyplot.subplot(221)\n",
    "matplotlib.pyplot.imshow(lena)\n",
    "#Plote a cópia\n",
    "matplotlib.pyplot.subplot(222)\n",
    "matplotlib.pyplot.imshow(acopy)\n",
    "#Plote a\n",
    "visualização matplotlib.pyplot.subplot(223)\n",
    "matplotlib.pyplot.imshow(aview)\n",
    "# Plota a visualização após as\n",
    "alterações\n",
    "aview.flat = 0 matplotlib.pyplot.subplot(224)\n",
    "\n",
    "matplotlib.pyplot.imshow(aview)\n",
    "matplotlib.pyplot.show()"
   ]
  },
  {
   "attachments": {},
   "cell_type": "markdown",
   "metadata": {},
   "source": [
    "### Lançando Lena"
   ]
  },
  {
   "attachments": {},
   "cell_type": "markdown",
   "metadata": {},
   "source": [
    "Estaremos lançando a imagem do SciPy Lena - tudo em nome da ciência,\n",
    "é claro, ou pelo menos como uma demonstração. Além de inverter a imagem,\n",
    "vamos cortá-la e aplicar uma máscara nela."
   ]
  },
  {
   "attachments": {},
   "cell_type": "markdown",
   "metadata": {},
   "source": [
    "1. Plote a imagem invertida."
   ]
  },
  {
   "attachments": {},
   "cell_type": "markdown",
   "metadata": {},
   "source": [
    "Vire a matriz Lena em torno do eixo vertical usando o seguinte\n",
    "código:"
   ]
  },
  {
   "cell_type": "code",
   "execution_count": null,
   "metadata": {},
   "outputs": [],
   "source": [
    "matplotlib.pyplot.imshow(lena[:,::-1])"
   ]
  },
  {
   "attachments": {},
   "cell_type": "markdown",
   "metadata": {},
   "source": [
    "2. Trace uma fatia da imagem."
   ]
  },
  {
   "attachments": {},
   "cell_type": "markdown",
   "metadata": {},
   "source": [
    "Pegue uma fatia da imagem e plote-a. Nesta etapa, veremos a forma do\n",
    "array Lena. A forma é uma tupla que representa as dimensões da\n",
    "matriz. O código a seguir seleciona efetivamente o quadrante superior\n",
    "esquerdo da imagem da Playboy."
   ]
  },
  {
   "cell_type": "code",
   "execution_count": null,
   "metadata": {},
   "outputs": [],
   "source": [
    "matplotlib.pyplot.imshow(lena[:lena.shape[0]/2,:lena.shape[1]/2])"
   ]
  },
  {
   "attachments": {},
   "cell_type": "markdown",
   "metadata": {},
   "source": [
    "3. Aplique uma máscara à imagem."
   ]
  },
  {
   "attachments": {},
   "cell_type": "markdown",
   "metadata": {},
   "source": [
    "Aplique uma máscara à imagem encontrando todos os valores na\n",
    "matriz Lena que são pares (isso é arbitrário apenas para fins de\n",
    "demonstração). Copie a matriz e altere os valores pares para 0.\n",
    "\n",
    "Isso tem o efeito de colocar muitos pontos azuis (manchas escuras se\n",
    "você estiver olhando para uma imagem em preto e branco) na imagem:"
   ]
  },
  {
   "cell_type": "code",
   "execution_count": null,
   "metadata": {},
   "outputs": [],
   "source": [
    "máscara = lena % 2 == 0\n",
    "masked_lena = lena.copy()\n",
    "masked_lena[mask] = 0"
   ]
  },
  {
   "attachments": {},
   "cell_type": "markdown",
   "metadata": {},
   "source": [
    "Todos esses esforços resultam em uma grade de imagem 2 por 2, conforme mostrado\n",
    "na captura de tela a seguir:"
   ]
  },
  {
   "cell_type": "code",
   "execution_count": null,
   "metadata": {},
   "outputs": [],
   "source": [
    "# A seguir está o código completo para esta receita:\n",
    "import scipy.misc\n",
    "import matplotlib.pyplot\n",
    "\n",
    "# Carrega o array Lena lena\n",
    "= scipy.misc.lena()\n",
    "\n",
    "# Plotar o array Lena\n",
    "matplotlib.pyplot.subplot(221)\n",
    "matplotlib.pyplot.imshow(lena)\n",
    "\n",
    "#Plote a matriz invertida\n",
    "matplotlib.pyplot.subplot(222)\n",
    "matplotlib.pyplot.imshow(lena[:,::-1])\n",
    "\n",
    "#Plote uma matriz de\n",
    "fatias matplotlib.pyplot.subplot(223)\n",
    "matplotlib.pyplot.imshow(lena[:lena.shape[0]/2,:lena.shape[1]/2])\n",
    "\n",
    "# Aplique uma\n",
    "máscara mask = lena % 2\n",
    "== 0 masked_lena = lena.copy()\n",
    "masked_lena[mask] = 0\n",
    "matplotlib.pyplot.subplot(224)\n",
    "matplotlib.pyplot.imshow(masked_lena)\n",
    "\n",
    "matplotlib.pyplot.show()\n",
    "\n",
    "\n",
    "#Plote a matriz invertida\n",
    "matplotlib.pyplot.subplot(222)\n",
    "matplotlib.pyplot.imshow(lena[:,::-1])\n",
    "#Plote uma matriz de\n",
    "fatias matplotlib.pyplot.subplot(223)\n",
    "matplotlib.pyplot.imshow(lena[:lena.shape[0]/2,:lena.shape[1]/2])\n",
    "# Plotar o array Lena\n",
    "matplotlib.pyplot.subplot(221)\n",
    "matplotlib.pyplot.imshow(lena)\n",
    "import scipy.misc\n",
    "import matplotlib.pyplot\n",
    "# Carrega o array Lena lena\n",
    "= scipy.misc.lena()"
   ]
  },
  {
   "cell_type": "markdown",
   "metadata": {},
   "source": []
  },
  {
   "cell_type": "markdown",
   "metadata": {},
   "source": []
  },
  {
   "cell_type": "markdown",
   "metadata": {},
   "source": []
  },
  {
   "cell_type": "markdown",
   "metadata": {},
   "source": []
  },
  {
   "cell_type": "markdown",
   "metadata": {},
   "source": []
  },
  {
   "cell_type": "markdown",
   "metadata": {},
   "source": []
  },
  {
   "cell_type": "markdown",
   "metadata": {},
   "source": []
  },
  {
   "cell_type": "code",
   "execution_count": null,
   "metadata": {},
   "outputs": [],
   "source": [
    "%reload_ext watermark\n",
    "%watermark -a \"Caique Miranda\" -gu \"caiquemiranda\" -iv"
   ]
  },
  {
   "attachments": {},
   "cell_type": "markdown",
   "metadata": {},
   "source": [
    "### End."
   ]
  }
 ],
 "metadata": {
  "language_info": {
   "name": "python"
  },
  "orig_nbformat": 4
 },
 "nbformat": 4,
 "nbformat_minor": 2
}
