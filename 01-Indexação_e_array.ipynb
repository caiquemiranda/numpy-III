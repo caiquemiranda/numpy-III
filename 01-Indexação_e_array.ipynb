{
 "cells": [
  {
   "cell_type": "code",
   "execution_count": null,
   "metadata": {},
   "outputs": [],
   "source": [
    "# Versão da Linguagem Python\n",
    "from platform import python_version\n",
    "print('Versão de Python Neste Jupyter Notebook:', python_version())"
   ]
  },
  {
   "attachments": {},
   "cell_type": "markdown",
   "metadata": {},
   "source": [
    "- Instalando o SciPy\n",
    "- Instalando o PIL\n",
    "- Redimensionando imagens\n",
    "- Comparando exibições e cópias\n",
    "- Lançando Lena\n",
    "- Indexação sofisticada\n",
    "- Indexação com uma lista de locais\n",
    "- Indexação com booleanos\n",
    "- Stride truques para Sudoku\n",
    "- matrizes de transmissão"
   ]
  },
  {
   "attachments": {},
   "cell_type": "markdown",
   "metadata": {},
   "source": [
    "O NumPy é famoso por seus arrays eficientes. Essa fama se deve em parte à facilidade de indexação. Demonstraremos truques avançados de indexação usando imagens. Antes de mergulhar na indexação, instalaremos o software necessário — SciPy e PIL."
   ]
  },
  {
   "attachments": {},
   "cell_type": "markdown",
   "metadata": {},
   "source": [
    "Alguns dos exemplos envolverão a manipulação de imagens. Para fazer isso, vamos exigir a imagem do Python."
   ]
  },
  {
   "attachments": {},
   "cell_type": "markdown",
   "metadata": {},
   "source": [
    "Biblioteca (PIL) ; mas não se preocupe, instruções e dicas para ajudá-lo a instalar o PIL e outros softwares Python necessários são fornecidos ao longo do capítulo, quando necessário."
   ]
  },
  {
   "attachments": {},
   "cell_type": "markdown",
   "metadata": {},
   "source": [
    "### Instalando o SciPy"
   ]
  },
  {
   "attachments": {},
   "cell_type": "markdown",
   "metadata": {},
   "source": [
    "SciPy é a biblioteca científica do Python e está intimamente relacionada ao NumPy.\n",
    "Há uma chance de você já ter instalado este software como parte da instalação do NumPy. SciPy e NumPy costumavam ser o mesmo projeto há muitos anos."
   ]
  },
  {
   "attachments": {},
   "cell_type": "markdown",
   "metadata": {},
   "source": [
    "- Instalando no Windows: Se você já tiver o Python instalado, o método\n",
    "preferido é baixar e usar a distribuição binária. Alternativamente, você pode querer instalar a distribuição Enthought Python, que vem com outro software Python científico pacotes."
   ]
  },
  {
   "attachments": {},
   "cell_type": "markdown",
   "metadata": {},
   "source": [
    "- Verifique sua instalação: Verifique a instalação do SciPy com o\n",
    "seguinte código:"
   ]
  },
  {
   "cell_type": "code",
   "execution_count": null,
   "metadata": {},
   "outputs": [],
   "source": [
    "import scipy\n",
    "\n",
    "print(scipy.__version__)\n",
    "print(scipy.__file__)"
   ]
  },
  {
   "attachments": {},
   "cell_type": "markdown",
   "metadata": {},
   "source": [
    "Isso deve imprimir a versão SciPy correta."
   ]
  },
  {
   "attachments": {},
   "cell_type": "markdown",
   "metadata": {},
   "source": [
    "### Instalando o PIL"
   ]
  },
  {
   "attachments": {},
   "cell_type": "markdown",
   "metadata": {},
   "source": [
    "PIL, a biblioteca de imagens Python, é um pré-requisito para os processamentos de imagem."
   ]
  },
  {
   "attachments": {},
   "cell_type": "markdown",
   "metadata": {},
   "source": [
    "- Installing PIL on Windows: Install using the Windows\n",
    "executable from the PIL website.\n",
    "\n",
    "http://www.pythonware.com/products/pil/."
   ]
  },
  {
   "attachments": {},
   "cell_type": "markdown",
   "metadata": {},
   "source": [
    "### Redimensionando imagens"
   ]
  },
  {
   "cell_type": "code",
   "execution_count": null,
   "metadata": {},
   "outputs": [],
   "source": [
    "def lena():\n",
    "    import pickle\n",
    "    import numpy\n",
    "    \n",
    "    fname = 'data/lena.dat'\n",
    "    f = open(fname,'rb')\n",
    "    lena = numpy.array(pickle.load(f))\n",
    "    f.close()\n",
    "    \n",
    "    return lena"
   ]
  },
  {
   "attachments": {},
   "cell_type": "markdown",
   "metadata": {},
   "source": [
    "carregaremos uma imagem de amostra de Lena, que está disponível na distribuição SciPy, em um array. A propósito, usaremos apenas os dados da imagem como entrada."
   ]
  },
  {
   "attachments": {},
   "cell_type": "markdown",
   "metadata": {},
   "source": [
    "Vamos redimensionar a imagem usando a função de repetição. Essa função repete um array, o que na prática significa redimensionar a imagem por um determinado fator."
   ]
  },
  {
   "attachments": {},
   "cell_type": "markdown",
   "metadata": {},
   "source": [
    "1. Carregue a imagem Lena em um array."
   ]
  },
  {
   "attachments": {},
   "cell_type": "markdown",
   "metadata": {},
   "source": [
    "O SciPy possui uma função lena , que pode carregar a imagem em um Matriz NumPy:"
   ]
  },
  {
   "cell_type": "code",
   "execution_count": null,
   "metadata": {},
   "outputs": [],
   "source": [
    "lena = lena()"
   ]
  },
  {
   "attachments": {},
   "cell_type": "markdown",
   "metadata": {},
   "source": [
    "Alguma refatoração ocorreu desde a versão 0.10, portanto, se você estiver usando uma versão mais antiga, o código correto é:"
   ]
  },
  {
   "cell_type": "code",
   "execution_count": null,
   "metadata": {},
   "outputs": [],
   "source": [
    "lena = lena()"
   ]
  },
  {
   "attachments": {},
   "cell_type": "markdown",
   "metadata": {},
   "source": [
    "2. Verifique a forma."
   ]
  },
  {
   "attachments": {},
   "cell_type": "markdown",
   "metadata": {},
   "source": [
    "Verifique a forma do array Lena usando a função `assert_equal` do pacote `numpy.testing` — este é um teste de verificação de sanidade opcional:"
   ]
  },
  {
   "cell_type": "code",
   "execution_count": null,
   "metadata": {},
   "outputs": [],
   "source": [
    "import numpy"
   ]
  },
  {
   "cell_type": "code",
   "execution_count": null,
   "metadata": {},
   "outputs": [],
   "source": [
    "LENA_X = 512\n",
    "LENA_Y = 512\n",
    "\n",
    "numpy.testing.assert_equal((LENA_X, LENA_Y), lena.shape)"
   ]
  },
  {
   "attachments": {},
   "cell_type": "markdown",
   "metadata": {},
   "source": [
    "3. Redimensione a matriz Lena."
   ]
  },
  {
   "attachments": {},
   "cell_type": "markdown",
   "metadata": {},
   "source": [
    "Redimensione o array Lena com a função `repeat()`. Damos a esta função um fator de redimensionamento na direção x e y:"
   ]
  },
  {
   "cell_type": "code",
   "execution_count": null,
   "metadata": {},
   "outputs": [],
   "source": [
    "redimensionado = lena.repeat(LENA_Y, axis = 0).repeat(LENA_X, axis = 1)"
   ]
  },
  {
   "attachments": {},
   "cell_type": "markdown",
   "metadata": {},
   "source": [
    "4. Plote as matrizes."
   ]
  },
  {
   "attachments": {},
   "cell_type": "markdown",
   "metadata": {},
   "source": [
    "Vamos plotar a imagem Lena e a imagem redimensionada em duas subtramas que fazem parte da mesma grade. Plote a matriz Lena em uma subtrama:"
   ]
  },
  {
   "cell_type": "code",
   "execution_count": null,
   "metadata": {},
   "outputs": [],
   "source": [
    "import matplotlib"
   ]
  },
  {
   "cell_type": "code",
   "execution_count": null,
   "metadata": {},
   "outputs": [],
   "source": [
    "matplotlib.pyplot.subplot(211)\n",
    "matplotlib.pyplot.imshow(lena)"
   ]
  },
  {
   "attachments": {},
   "cell_type": "markdown",
   "metadata": {},
   "source": [
    "A função de subtrama do Matplotlib cria uma subtrama. Esta função aceita um inteiro de 3 dígitos como parâmetro, onde o primeiro dígito é o número de linhas, o segundo dígito é o número de colunas e o último dígito é o índice da subtrama começando com 1. A função imshow mostra imagens ."
   ]
  },
  {
   "attachments": {},
   "cell_type": "markdown",
   "metadata": {},
   "source": [
    "Por fim, a função show exibe o resultado final."
   ]
  },
  {
   "attachments": {},
   "cell_type": "markdown",
   "metadata": {},
   "source": [
    "Plote a matriz redimensionada em outra subtrama e exiba-a. O índice agora é 2:"
   ]
  },
  {
   "cell_type": "code",
   "execution_count": null,
   "metadata": {},
   "outputs": [],
   "source": [
    "matplotlib.pyplot.subplot(212)\n",
    "matplotlib.pyplot.imshow(redimensionado)\n",
    "matplotlib.pyplot.show()"
   ]
  },
  {
   "attachments": {},
   "cell_type": "markdown",
   "metadata": {},
   "source": [
    "A captura de tela a seguir é o resultado com a imagem original(primeira) e a imagem redimensionada(segunda):"
   ]
  },
  {
   "cell_type": "code",
   "execution_count": null,
   "metadata": {},
   "outputs": [],
   "source": [
    "# A seguir está o código completo para esta receita:\n",
    "\n",
    "import sys\n",
    "import matplotlib.pyplot \n",
    "import numpy.testing\n",
    "\n",
    "# Este script redimensiona a imagem Lena do Scipy.\n",
    "if(len(sys.argv) != 3): \n",
    "    print(\"Uso python %s yfactor xfactor\" % (sys.argv[0])) \n",
    "    sys.exit()\n",
    "\n",
    "# Carrega a imagem Lena em um array lena =\n",
    "lena = lena()\n",
    "\n",
    "#Dimensões de Lena\n",
    "LENA_X = 512\n",
    "LENA_Y = 512\n",
    "\n",
    "#Verifique a forma do array Lena\n",
    "numpy.testing.assert_equal((LENA_X, LENA_Y), lena.shape)\n",
    "\n",
    "# Obtenha os fatores de redimensionamento \n",
    "yfactor = float(sys.argv[1]) \n",
    "xfactor = float(sys.argv[2])\n",
    "\n",
    "# redimensione o array Lena\n",
    "redimensionado = lena.repeat(yfactor, axis = 0).repeat(xfactor, axis = 1)\n",
    "\n",
    "#Verifique a forma do array redimensionado\n",
    "numpy.testing.assert_equal((LENA_Y, LENA_Y), redimensionado.shape)\n",
    "\n",
    "# Plotar o array Lena\n",
    "matplotlib.pyplot.subplot(211)\n",
    "matplotlib.pyplot.imshow(lena)\n",
    "\n",
    "#Plote a matriz redimensionada\n",
    "matplotlib.pyplot.subplot(212)\n",
    "matplotlib.pyplot.imshow(redimensionado)\n",
    "matplotlib.pyplot.show()"
   ]
  },
  {
   "attachments": {},
   "cell_type": "markdown",
   "metadata": {},
   "source": [
    "A função repeat repete arrays, o que, nesse caso, resultou na alteração do\n",
    "tamanho da imagem original. A função de subtrama do Matplotlib cria uma\n",
    "subtrama. A função imshow mostra imagens."
   ]
  },
  {
   "attachments": {},
   "cell_type": "markdown",
   "metadata": {},
   "source": [
    "Por fim, a função show exibe o resultado final."
   ]
  },
  {
   "attachments": {},
   "cell_type": "markdown",
   "metadata": {},
   "source": [
    "### Criando exibições e cópias"
   ]
  },
  {
   "attachments": {},
   "cell_type": "markdown",
   "metadata": {},
   "source": [
    "É importante saber quando estamos lidando com uma exibição de array compartilhada equando temos uma cópia dos dados do array. Uma fatia, por exemplo, criará umaexibição. Isso significa que, se você atribuir a fatia a uma variável e depois alterar a matriz subjacente, o valor dessa variável será alterado. Vamos criar um array a partir da famosa imagem do Lena, copiar o array, criar uma view e, ao final, modificar a view."
   ]
  },
  {
   "attachments": {},
   "cell_type": "markdown",
   "metadata": {},
   "source": [
    "Os pré-requisitos são os mesmos da receita anterior."
   ]
  },
  {
   "attachments": {},
   "cell_type": "markdown",
   "metadata": {},
   "source": [
    "Vamos criar uma cópia e visualizações do array Lena:"
   ]
  },
  {
   "attachments": {},
   "cell_type": "markdown",
   "metadata": {},
   "source": [
    "1. Crie uma cópia do array Lena:"
   ]
  },
  {
   "cell_type": "code",
   "execution_count": null,
   "metadata": {},
   "outputs": [],
   "source": [
    "acopy = lena.copy()"
   ]
  },
  {
   "attachments": {},
   "cell_type": "markdown",
   "metadata": {},
   "source": [
    "2. Crie uma exibição da matriz:"
   ]
  },
  {
   "cell_type": "code",
   "execution_count": null,
   "metadata": {},
   "outputs": [],
   "source": [
    "aview = lena.view()"
   ]
  },
  {
   "attachments": {},
   "cell_type": "markdown",
   "metadata": {},
   "source": [
    "3. Defina todos os valores da exibição como 0 com um iterador simples:"
   ]
  },
  {
   "cell_type": "code",
   "execution_count": null,
   "metadata": {},
   "outputs": [],
   "source": [
    "aview.flat = 0"
   ]
  },
  {
   "attachments": {},
   "cell_type": "markdown",
   "metadata": {},
   "source": [
    "O resultado final é que apenas uma das imagens mostra a modelo da Playboy. Os outros são censurados completamente:"
   ]
  },
  {
   "attachments": {},
   "cell_type": "markdown",
   "metadata": {},
   "source": [
    "A seguir está o código deste tutorial mostrando o comportamento de visualizações e cópias de array:"
   ]
  },
  {
   "cell_type": "code",
   "execution_count": 27,
   "metadata": {},
   "outputs": [
    {
     "data": {
      "image/png": "[encoded data removed]",
      "text/plain": [
       "<Figure size 432x288 with 4 Axes>"
      ]
     },
     "metadata": {
      "needs_background": "light"
     },
     "output_type": "display_data"
    }
   ],
   "source": [
    "import matplotlib.pyplot\n",
    "\n",
    "lena = lena() \n",
    "acopy = lena.copy()\n",
    "aview = lena.view()\n",
    "\n",
    "# Plotar o array Lena\n",
    "matplotlib.pyplot.subplot(221)\n",
    "matplotlib.pyplot.imshow(lena)\n",
    "\n",
    "#Plote a cópia\n",
    "matplotlib.pyplot.subplot(222)\n",
    "matplotlib.pyplot.imshow(acopy)\n",
    "\n",
    "#Plote a visualização \n",
    "matplotlib.pyplot.subplot(223)\n",
    "matplotlib.pyplot.imshow(aview)\n",
    "\n",
    "# Plota a visualização após as alterações\n",
    "aview.flat = 0\n",
    " \n",
    "matplotlib.pyplot.subplot(224)\n",
    "matplotlib.pyplot.imshow(aview)\n",
    "matplotlib.pyplot.show()"
   ]
  },
  {
   "attachments": {},
   "cell_type": "markdown",
   "metadata": {},
   "source": [
    "### Lançando Lena"
   ]
  },
  {
   "attachments": {},
   "cell_type": "markdown",
   "metadata": {},
   "source": [
    "Estaremos lançando a imagem do SciPy Lena - tudo em nome da ciência, é claro, ou pelo menos como uma demonstração. Além de inverter a imagem, vamos cortá-la e aplicar uma máscara nela."
   ]
  },
  {
   "attachments": {},
   "cell_type": "markdown",
   "metadata": {},
   "source": [
    "1. Plote a imagem invertida."
   ]
  },
  {
   "attachments": {},
   "cell_type": "markdown",
   "metadata": {},
   "source": [
    "Vire a matriz Lena em torno do eixo vertical usando o seguinte código:"
   ]
  },
  {
   "cell_type": "code",
   "execution_count": null,
   "metadata": {},
   "outputs": [],
   "source": [
    "matplotlib.pyplot.imshow(lena[:,::-1])"
   ]
  },
  {
   "attachments": {},
   "cell_type": "markdown",
   "metadata": {},
   "source": [
    "2. Trace uma fatia da imagem."
   ]
  },
  {
   "attachments": {},
   "cell_type": "markdown",
   "metadata": {},
   "source": [
    "Pegue uma fatia da imagem e plote-a. Nesta etapa, veremos a forma do array Lena. A forma é uma tupla que representa as dimensões da matriz. O código a seguir seleciona efetivamente o quadrante superior esquerdo da imagem da Playboy."
   ]
  },
  {
   "cell_type": "code",
   "execution_count": null,
   "metadata": {},
   "outputs": [],
   "source": [
    "matplotlib.pyplot.imshow(lena[:lena.shape[0]/2,:lena.shape[1]/2])"
   ]
  },
  {
   "attachments": {},
   "cell_type": "markdown",
   "metadata": {},
   "source": [
    "3. Aplique uma máscara à imagem."
   ]
  },
  {
   "attachments": {},
   "cell_type": "markdown",
   "metadata": {},
   "source": [
    "Aplique uma máscara à imagem encontrando todos os valores na matriz Lena que são pares (isso é arbitrário apenas para fins de demonstração). Copie a matriz e altere os valores pares para 0. Isso tem o efeito de colocar muitos pontos azuis (manchas escuras se você estiver olhando para uma imagem em preto e branco) na imagem:"
   ]
  },
  {
   "cell_type": "code",
   "execution_count": null,
   "metadata": {},
   "outputs": [],
   "source": [
    "mascara = lena % 2 == 0\n",
    "mascara_lena = lena.copy()\n",
    "mascara_lena[mascara] = 0"
   ]
  },
  {
   "attachments": {},
   "cell_type": "markdown",
   "metadata": {},
   "source": [
    "Todos esses esforços resultam em uma grade de imagem 2 por 2, conforme mostrado na captura de tela a seguir:"
   ]
  },
  {
   "cell_type": "code",
   "execution_count": null,
   "metadata": {},
   "outputs": [],
   "source": [
    "# A seguir está o código completo para esta receita:\n",
    "import matplotlib.pyplot\n",
    "\n",
    "# Carrega o array Lena\n",
    "lena = lena()\n",
    "\n",
    "# Plotar o array Lena\n",
    "matplotlib.pyplot.subplot(221)\n",
    "matplotlib.pyplot.imshow(lena)\n",
    "\n",
    "#Plote a matriz invertida\n",
    "matplotlib.pyplot.subplot(222)\n",
    "matplotlib.pyplot.imshow(lena[:,::-1])\n",
    "\n",
    "#Plote uma matriz de fatias \n",
    "matplotlib.pyplot.subplot(223)\n",
    "matplotlib.pyplot.imshow(lena[:lena.shape[0]/2, :lena.shape[1]/2])\n",
    "\n",
    "# Aplique uma máscara \n",
    "mascara = lena % 2 == 0 \n",
    "mascara_lena = lena.copy()\n",
    "mascara_lena[mascara] = 0\n",
    "\n",
    "matplotlib.pyplot.subplot(224)\n",
    "matplotlib.pyplot.imshow(mascara_lena)\n",
    "matplotlib.pyplot.show()\n",
    "\n",
    "\n",
    "#Plote a matriz invertida\n",
    "matplotlib.pyplot.subplot(222)\n",
    "matplotlib.pyplot.imshow(lena[:,::-1])\n",
    "\n",
    "#Plote uma matriz de fatias \n",
    "matplotlib.pyplot.subplot(223)\n",
    "matplotlib.pyplot.imshow(lena[:lena.shape[0]/2,:lena.shape[1]/2])\n",
    "\n",
    "# Plotar o array Lena\n",
    "matplotlib.pyplot.subplot(221)\n",
    "matplotlib.pyplot.imshow(lena)"
   ]
  },
  {
   "attachments": {},
   "cell_type": "markdown",
   "metadata": {},
   "source": [
    "### indexação sofisticada"
   ]
  },
  {
   "attachments": {},
   "cell_type": "markdown",
   "metadata": {},
   "source": [
    "aplicaremos uma indexação sofisticada para definir os valores diagonais da imagem Lena como 0. Isso desenhará linhas pretas ao longo das diagonais, cruzando-as, não porque haja algo errado com a imagem, mas apenas como um exercício. A indexação sofisticada é a indexação que não envolve números inteiros ou fatias, o que é uma indexação normal."
   ]
  },
  {
   "attachments": {},
   "cell_type": "markdown",
   "metadata": {},
   "source": [
    "Começaremos com a primeira diagonal:"
   ]
  },
  {
   "attachments": {},
   "cell_type": "markdown",
   "metadata": {},
   "source": [
    "1. Defina os valores da primeira diagonal como 0."
   ]
  },
  {
   "attachments": {},
   "cell_type": "markdown",
   "metadata": {},
   "source": [
    "Para definir os valores diagonais como 0, precisamos definir dois intervalos diferentes para os valores x e y :"
   ]
  },
  {
   "cell_type": "code",
   "execution_count": null,
   "metadata": {},
   "outputs": [],
   "source": [
    "# lena[range(xmax), range(ymax)] = 0"
   ]
  },
  {
   "attachments": {},
   "cell_type": "markdown",
   "metadata": {},
   "source": [
    "2. Defina os valores da outra diagonal como 0."
   ]
  },
  {
   "attachments": {},
   "cell_type": "markdown",
   "metadata": {},
   "source": [
    "Para definir os valores da outra diagonal, precisamos de um conjunto diferente de intervalos, mas os princípios permanecem os mesmos:"
   ]
  },
  {
   "cell_type": "code",
   "execution_count": null,
   "metadata": {},
   "outputs": [],
   "source": [
    "# lena[range(xmax-1,-1,-1), range(ymax)] = 0"
   ]
  },
  {
   "attachments": {},
   "cell_type": "markdown",
   "metadata": {},
   "source": [
    "No final, obtemos esta imagem com as diagonais riscadas, conforme mostra a captura de tela a seguir:"
   ]
  },
  {
   "cell_type": "code",
   "execution_count": null,
   "metadata": {},
   "outputs": [],
   "source": [
    "# A seguir está o código completo:\n",
    "\n",
    "import matplotlib.pyplot\n",
    "\n",
    "# Este script demonstra indexação sofisticada definindo valores # nas diagonais como 0.\n",
    "# Carrega o array Lena \n",
    "\n",
    "lena = scipy.misc.lena() \n",
    "xmax = lena.shape[0] \n",
    "ymax = lena.shape[1]\n",
    "\n",
    "# Indexação sofisticada\n",
    "# Definir valores na diagonal para 0 \n",
    "# # x 0-xmax \n",
    "# # y 0-\n",
    "\n",
    "lena[range(xmax), range(ymax)] = 0\n",
    "     \n",
    " # Definir valores na outra diagonal para 0 # x\n",
    "xmax-0 # y 0-\n",
    "ymax\n",
    "\n",
    "lena[range(xmax-1,-1,-1), range(ymax)] = 0\n",
    "\n",
    "# Traçar Lena com linhas diagonais definidas como 0\n",
    "matplotlib.pyplot.imshow(lena)\n",
    "matplotlib.pyplot.show()"
   ]
  },
  {
   "attachments": {},
   "cell_type": "markdown",
   "metadata": {},
   "source": [
    "Definimos intervalos separados para os valores x e valores y. Esses intervalos foram usados para indexar a matriz Lena. A indexação sofisticada é executada com base em um objeto iterador NumPy interno. As três etapas a seguir são executadas:"
   ]
  },
  {
   "attachments": {},
   "cell_type": "markdown",
   "metadata": {},
   "source": [
    "1. O objeto iterador é criado."
   ]
  },
  {
   "attachments": {},
   "cell_type": "markdown",
   "metadata": {},
   "source": [
    "2. O objeto iterador é vinculado ao array."
   ]
  },
  {
   "attachments": {},
   "cell_type": "markdown",
   "metadata": {},
   "source": [
    "3. Os elementos da matriz são acessados por meio do iterador."
   ]
  },
  {
   "attachments": {},
   "cell_type": "markdown",
   "metadata": {},
   "source": [
    "### Indexação com uma lista de locais"
   ]
  },
  {
   "attachments": {},
   "cell_type": "markdown",
   "metadata": {},
   "source": [
    "Vamos usar a função ix_ para embaralhar a imagem do Lena. Esta função cria uma malha de várias sequências."
   ]
  },
  {
   "attachments": {},
   "cell_type": "markdown",
   "metadata": {},
   "source": [
    "Começaremos embaralhando aleatoriamente os índices do array:"
   ]
  },
  {
   "attachments": {},
   "cell_type": "markdown",
   "metadata": {},
   "source": [
    "1. Embaralhe os índices da matriz."
   ]
  },
  {
   "attachments": {},
   "cell_type": "markdown",
   "metadata": {},
   "source": [
    "Crie uma matriz de índices aleatórios com a função shuffle do módulo numpy.random :"
   ]
  },
  {
   "cell_type": "code",
   "execution_count": null,
   "metadata": {},
   "outputs": [],
   "source": [
    "def shuffle_indices(tamanho): \n",
    "    arr = numpy.arange(size)\n",
    "    numpy.random.shuffle(arr)\n",
    "    retorno arr"
   ]
  },
  {
   "attachments": {},
   "cell_type": "markdown",
   "metadata": {},
   "source": [
    "2. Trace os índices embaralhados:"
   ]
  },
  {
   "cell_type": "code",
   "execution_count": null,
   "metadata": {},
   "outputs": [],
   "source": [
    "matplotlib.pyplot.imshow(lena[numpy.ix_(xindices, yindices)])"
   ]
  },
  {
   "attachments": {},
   "cell_type": "markdown",
   "metadata": {},
   "source": [
    "O que obtemos é uma imagem de Lena completamente embaralhada, conforme mostrado na captura de tela a seguir:"
   ]
  },
  {
   "cell_type": "code",
   "execution_count": null,
   "metadata": {},
   "outputs": [],
   "source": [
    "# A seguir está o código completo da receita:\n",
    "\n",
    "import matplotlib.pyplot \n",
    "import numpy.random \n",
    "import numpy.testing\n",
    "# Carrega o array Lena \n",
    "lena = lena() \n",
    "xmax = lena.shape[0] \n",
    "ymax = lena.shape[1]\n",
    "def shuffle_indices(tamanho): \n",
    "    arr = numpy.arange(size)\n",
    "    numpy.random.shuffle(arr)\n",
    "    return arr\n",
    "\n",
    "xindices = shuffle_indices(xmax)\n",
    "numpy.testing.assert_equal(len(xindices), xmax) \n",
    "yindices = shuffle_indices(ymax)\n",
    "numpy.testing.assert_equal(len(yindices), ymax)\n",
    "# Plot L\n",
    "enamatplotli bp yplo ti mshow (lena [ nump yi x ( xindices , yindices ) ] ) matplotli\n",
    "bp yplo ts how ( )"
   ]
  },
  {
   "attachments": {},
   "cell_type": "markdown",
   "metadata": {},
   "source": [
    "### Indexação com booleanos"
   ]
  },
  {
   "attachments": {},
   "cell_type": "markdown",
   "metadata": {},
   "source": [
    "A indexação booleana é a indexação baseada em uma matriz booleana e se enquadra na categoria de indexação sofisticada."
   ]
  },
  {
   "attachments": {},
   "cell_type": "markdown",
   "metadata": {},
   "source": [
    "Aplicaremos esta técnica de indexação a uma imagem:"
   ]
  },
  {
   "attachments": {},
   "cell_type": "markdown",
   "metadata": {},
   "source": [
    "1. Imagem com pontos na diagonal."
   ]
  },
  {
   "attachments": {},
   "cell_type": "markdown",
   "metadata": {},
   "source": [
    "Isso é de alguma forma semelhante à receita de indexação Fancy , neste capítulo. Desta vez, selecionamos o módulo 4 pontos na diagonal da imagem:"
   ]
  },
  {
   "cell_type": "code",
   "execution_count": null,
   "metadata": {},
   "outputs": [],
   "source": [
    "def get_indices(tamanho): \n",
    "    arr = numpy.arange(tamanho)\n",
    "    return arr % 4 == 0"
   ]
  },
  {
   "attachments": {},
   "cell_type": "markdown",
   "metadata": {},
   "source": [
    "Depois é só aplicar essa seleção e plotar os pontos:"
   ]
  },
  {
   "cell_type": "code",
   "execution_count": null,
   "metadata": {},
   "outputs": [],
   "source": [
    "lena1 = lena.copy()\n",
    "xindices = get_indices(lena.shape[0]) \n",
    "yindices = get_indices(lena.shape[1])\n",
    "lena1[xindices, yindices] = 0 \n",
    "\n",
    "matplotlib.pyplot.subplot(211)\n",
    "matplotlib.pyplot.imshow (lena1)"
   ]
  },
  {
   "attachments": {},
   "cell_type": "markdown",
   "metadata": {},
   "source": [
    "2. Defina como 0 com base no valor."
   ]
  },
  {
   "attachments": {},
   "cell_type": "markdown",
   "metadata": {},
   "source": [
    "Selecione os valores da matriz entre um quarto e três quartos do valor máximo e defina-os como 0:"
   ]
  },
  {
   "cell_type": "code",
   "execution_count": null,
   "metadata": {},
   "outputs": [],
   "source": [
    "lena2[(lena > lena.max()/4) & (lena < 3 * lena.max()/4)] = 0"
   ]
  },
  {
   "attachments": {},
   "cell_type": "markdown",
   "metadata": {},
   "source": [
    "O gráfico com as duas novas imagens terá a seguinte aparência:"
   ]
  },
  {
   "cell_type": "code",
   "execution_count": null,
   "metadata": {},
   "outputs": [],
   "source": [
    "# A seguir está o código completo para esta receita:\n",
    "\n",
    "import matplotlib.pyplot \n",
    "import numpy\n",
    "\n",
    "# Carrega o array Lena \n",
    "lena = lena()\n",
    "\n",
    "def get_indices(tamanho):\n",
    "    arr = numpy.arange(tamanho) \n",
    "    return arr % 4 == 0\n",
    "\n",
    "# Gráfico Lena\n",
    "lena1 = lena.copy()\n",
    "xindices = get_indices(lena.shape[0])\n",
    "\n",
    "yindices = get_indices(lena.shape[1])\n",
    "lena1[xindices, yindices] = 0\n",
    "matplotlib.pyplot.subplot(211)\n",
    "matplotlib.pyplot.imshow(lena1) \n",
    "lena2 = lena.copy()\n",
    "\n",
    "\n",
    "# Entre um quarto e 3 quartos do valor máximo \n",
    "lena2[(lena > lena.max()/4) & (lena < 3 * lena.max()/4)] = 0 \n",
    "matplotlib.pyplot.subplot(212)\n",
    "matplotlib. pyplot.imshow(lena2)\n",
    "\n",
    "matplotlib.pyplot.show()"
   ]
  },
  {
   "attachments": {},
   "cell_type": "markdown",
   "metadata": {},
   "source": [
    "Como a indexação booleana é uma forma sofisticada de indexação, a maneira como ela funciona é basicamente a mesma. Isso significa que a indexação ocorre com a ajuda de um objeto iterador especial."
   ]
  },
  {
   "attachments": {},
   "cell_type": "markdown",
   "metadata": {},
   "source": [
    "### Stride truques para Sudoku"
   ]
  },
  {
   "attachments": {},
   "cell_type": "markdown",
   "metadata": {},
   "source": [
    "A classe ndarray tem um campo strides , que é uma tupla que indica o número de bytes a serem percorridos em cada dimensão ao passar por um array. Vamos aplicar alguns truques de passos largos ao problema de dividir um quebra-cabeça Sudoku nos quadrados 3 por 3 que o compõem."
   ]
  },
  {
   "attachments": {},
   "cell_type": "markdown",
   "metadata": {},
   "source": [
    "1. Defina a matriz do quebra-cabeça Sudoku"
   ]
  },
  {
   "attachments": {},
   "cell_type": "markdown",
   "metadata": {},
   "source": [
    "Vamos definir a matriz do quebra-cabeça Sudoku. Este é preenchido com o conteúdo de um quebra-cabeça de Sudoku real e resolvido:"
   ]
  },
  {
   "cell_type": "code",
   "execution_count": null,
   "metadata": {},
   "outputs": [],
   "source": [
    "sudoku = numpy.array([[2, 8, 7, 1, 6, 5, 9, 4, 3], \n",
    "                      [9, 5, 4, 7, 3, 2, 1, 6, 8], \n",
    "                      [6, 1, 3, 8, 4, 9, 7, 5, 2],\n",
    "                      [8, 7, 9, 6, 5, 1, 2, 3, 4], \n",
    "                      [4, 2, 1, 3, 9, 8, 6, 7, 5],\n",
    "                      [3, 6, 5, 4, 2, 7, 8, 9, 1],\n",
    "                      [1, 9, 8, 5, 7, 3, 4, 2, 6],\n",
    "                      [5, 4, 2, 9, 1, 6, 3, 8, 7], \n",
    "                      [7, 3, 6, 2, 8, 4, 5, 1, 9] ])"
   ]
  },
  {
   "attachments": {},
   "cell_type": "markdown",
   "metadata": {},
   "source": [
    "2. Calcule os passos. O campo itemsize de ndarray nos dá o número de bytes em um array. Usando o itemsize, calcule os passos:"
   ]
  },
  {
   "cell_type": "code",
   "execution_count": null,
   "metadata": {},
   "outputs": [],
   "source": [
    "passos = sudoku.itemsize * numpy.array([27, 3, 9, 1])"
   ]
  },
  {
   "attachments": {},
   "cell_type": "markdown",
   "metadata": {},
   "source": [
    "3. Divida em quadrados."
   ]
  },
  {
   "attachments": {},
   "cell_type": "markdown",
   "metadata": {},
   "source": [
    "Agora podemos dividir o quebra-cabeça em quadrados com a função `as_strided` do módulo `numpy.lib.stride_tricks`:"
   ]
  },
  {
   "cell_type": "code",
   "execution_count": null,
   "metadata": {},
   "outputs": [],
   "source": [
    "quadrados = numpy.lib.stride_tricks.as_strided(sudoku, forma=forma, print(quadrados))"
   ]
  },
  {
   "attachments": {},
   "cell_type": "markdown",
   "metadata": {},
   "source": [
    "Isso imprime quadrados de Sudoku separados:"
   ]
  },
  {
   "cell_type": "code",
   "execution_count": null,
   "metadata": {},
   "outputs": [],
   "source": [
    "[[[[2 8 7] [9 5 4] [6 1 3]] \n",
    "  [[1 6 5] [7 3 2] [8 4 9]]\n",
    "  [[9 4 3] [1 6 8] [7 5 2]]]\n",
    " \n",
    " [[[8 7 9] [4 2 1] [3 6 5]]\n",
    "  [[6 5 1] [3 9 8] [4 2 7]]\n",
    "  [[2 3 4] [6 7 5] [8 9 1]]]\n",
    " \n",
    " [[[1 9 8] [5 4 2] [7 3 6]] \n",
    "  [[5 7 3] [9 1 6] [2 8 4]]\n",
    "  [[4 2 6] [3 8 7] [5 1 9]]]\n",
    " ]"
   ]
  },
  {
   "cell_type": "code",
   "execution_count": null,
   "metadata": {},
   "outputs": [],
   "source": [
    "# A seguir está o código-fonte completo para esta receita:\n",
    "import numpy\n",
    "\n",
    "sudoku = numpy.array([[2, 8, 7, 1, 6, 5, 9, 4, 3],\n",
    "                      [9, 5, 4, 7, 3, 2, 1, 6, 8],\n",
    "                      [6, 1, 3, 8, 4, 9, 7, 5, 2],\n",
    "                      [8, 7, 9, 6, 5, 1, 2, 3, 4],\n",
    "                      [4, 2, 1, 3, 9, 8, 6, 7, 5], \n",
    "                      [3, 6, 5, 4, 2, 7, 8, 9, 1],\n",
    "                      [1, 9, 8, 5, 7, 3, 4, 2, 6], \n",
    "                      [5, 4, 2, 9, 1, 6, 3, 8, 7],\n",
    "                      [7, 3, 6, 2, 8, 4, 5, 1, 9]])\n",
    "\n",
    "forma = (3, 3, 3, 3)\n",
    "\n",
    "passos = sudoku.itemsize * numpy.array([27, 3, 9, 1])\n",
    "squares = numpy.lib.stride_tricks.as_strided(sudoku, shape=shape, strid print(squares)"
   ]
  },
  {
   "attachments": {},
   "cell_type": "markdown",
   "metadata": {},
   "source": [
    "### matrizes de transmissão"
   ]
  },
  {
   "attachments": {},
   "cell_type": "markdown",
   "metadata": {},
   "source": [
    "Sem saber, você pode ter transmitido matrizes. Em poucas palavras, o NumPy tenta realizar uma operação mesmo que os operandos não tenham a mesma forma. Vamos multiplicar um array e um escalar. O escalar é \"estendido\" para a forma do operando array e então a multiplicação é realizada. Vamos baixar um arquivo de áudio e fazer uma nova versão mais silenciosa."
   ]
  },
  {
   "attachments": {},
   "cell_type": "markdown",
   "metadata": {},
   "source": [
    "Vamos começar lendo um arquivo WAV:"
   ]
  },
  {
   "attachments": {},
   "cell_type": "markdown",
   "metadata": {},
   "source": [
    "1. Lendo um arquivo WAV."
   ]
  },
  {
   "attachments": {},
   "cell_type": "markdown",
   "metadata": {},
   "source": [
    "Usaremos um código Python padrão para baixar um arquivo de áudio de Austin Powers chamado \"Smashing, baby\". O SciPy possui um módulo wavfile , que permite carregar dados de som ou gerar arquivos WAV. Se o SciPy estiver instalado, já devemos ter este módulo. A função de leitura retorna uma matriz de dados e uma taxa de amostragem. Neste exemplo, nos preocupamos apenas com os dados:"
   ]
  },
  {
   "cell_type": "code",
   "execution_count": null,
   "metadata": {},
   "outputs": [],
   "source": [
    "# sample_rate, data = scipy.io.wavfile.read(WAV_FILE)"
   ]
  },
  {
   "attachments": {},
   "cell_type": "markdown",
   "metadata": {},
   "source": [
    "2. Plote os dados WAV originais."
   ]
  },
  {
   "attachments": {},
   "cell_type": "markdown",
   "metadata": {},
   "source": [
    "Plote os dados WAV originais com Matplotlib. Dê à subtrama o título Original."
   ]
  },
  {
   "cell_type": "code",
   "execution_count": null,
   "metadata": {},
   "outputs": [],
   "source": [
    "matplotlib.pyplot.subplot(2, 1, 1)\n",
    "matplotlib.pyplot.title(\"Original\")\n",
    "matplotlib.pyplot.plot(data)"
   ]
  },
  {
   "attachments": {},
   "cell_type": "markdown",
   "metadata": {},
   "source": [
    "3. Crie uma nova matriz."
   ]
  },
  {
   "attachments": {},
   "cell_type": "markdown",
   "metadata": {},
   "source": [
    "Agora vamos usar o NumPy para fazer uma amostra de áudio mais silenciosa. É apenas uma questão de criar uma nova matriz com valores menores por multiplicando por uma constante. É aqui que ocorre a mágica da transmissão. No final, precisamos ter certeza de que temos o mesmo tipo de dados do array original, por causa do formato WAV:"
   ]
  },
  {
   "cell_type": "code",
   "execution_count": null,
   "metadata": {},
   "outputs": [],
   "source": [
    "newdata = data * 0.2\n",
    "newdata = newdata.astype(numpy.uint8)"
   ]
  },
  {
   "attachments": {},
   "cell_type": "markdown",
   "metadata": {},
   "source": [
    "4. Grave em um arquivo WAV."
   ]
  },
  {
   "attachments": {},
   "cell_type": "markdown",
   "metadata": {},
   "source": [
    "Essa nova matriz pode ser gravada em um novo arquivo WAV da seguinte maneira:"
   ]
  },
  {
   "cell_type": "code",
   "execution_count": null,
   "metadata": {},
   "outputs": [],
   "source": [
    "scipy.io.wavfile.write(\"data/quiet.wav\", sample_rate, newdata)"
   ]
  },
  {
   "attachments": {},
   "cell_type": "markdown",
   "metadata": {},
   "source": [
    "5. Trace os novos dados WAV."
   ]
  },
  {
   "attachments": {},
   "cell_type": "markdown",
   "metadata": {},
   "source": [
    "Plote a nova matriz de dados com Matplotlib:"
   ]
  },
  {
   "cell_type": "code",
   "execution_count": null,
   "metadata": {},
   "outputs": [],
   "source": [
    "matplotlib.pyplot.subplot(2, 1, 2)\n",
    "matplotlib.pyplot.title(\"Quiet\")\n",
    "matplotlib.pyplot.plot(newdata)\n",
    "\n",
    "matplotlib.pyplot.show()"
   ]
  },
  {
   "attachments": {},
   "cell_type": "markdown",
   "metadata": {},
   "source": [
    "O resultado é um gráfico dos dados do arquivo WAV original e uma nova matriz com valores menores, conforme mostrado na captura de tela a seguir:"
   ]
  },
  {
   "cell_type": "code",
   "execution_count": null,
   "metadata": {},
   "outputs": [],
   "source": [
    "# A seguir está o código completo:\n",
    "\n",
    "import scipy.io.wavfile \n",
    "import matplotlib.pyplot \n",
    "import urllib2\n",
    "import numpy\n",
    "\n",
    "response = urllib2.urlopen('http://www.thesoundarchive.com/austinpowers')\n",
    "print(response.info())\n",
    "\n",
    "WAV_FILE = 'smashingbaby.wav'\n",
    "filehandle = open(WAV_FILE, 'w')\n",
    "filehandle.write(response.read())\n",
    "filehandle.close()\n",
    "sample_rate, data = scipy.io.wavfile.read(WAV_FILE) \n",
    "print(\"Tipo de dados \", data.dtype, \"Forma\", data.shape)\n",
    "\n",
    "matplotlib.pyplot.subplot(2, 1, 1)\n",
    "matplotlib.pyplot.title(\"Original\")\n",
    "matplotlib.pyplot.plot(data)\n",
    "\n",
    "newdata = data * 0.2\n",
    "newdata = newdata.astype(numpy.uint8) \n",
    "print(\"Data type\", newdata.dtype, \"Shape\", newdata.shape)\n",
    "\n",
    "scipy.io.wavfile.write(\"quiet.wav\", sample_rate, newdata)\n",
    "\n",
    "matplotlib.pyplot.subplot(2, 1, 2)\n",
    "matplotlib.pyplot.title(\"Quiet\")\n",
    "matplotlib.pyplot.plot(newdata)\n",
    "\n",
    "matplotlib.pyplot.show()"
   ]
  },
  {
   "cell_type": "code",
   "execution_count": null,
   "metadata": {},
   "outputs": [],
   "source": [
    "%reload_ext watermark\n",
    "%watermark -a \"Caique Miranda\" -gu \"caiquemiranda\" -iv"
   ]
  },
  {
   "attachments": {},
   "cell_type": "markdown",
   "metadata": {},
   "source": [
    "### End."
   ]
  }
 ],
 "metadata": {
  "kernelspec": {
   "display_name": "Python 3",
   "language": "python",
   "name": "python3"
  },
  "language_info": {
   "codemirror_mode": {
    "name": "ipython",
    "version": 3
   },
   "file_extension": ".py",
   "mimetype": "text/x-python",
   "name": "python",
   "nbconvert_exporter": "python",
   "pygments_lexer": "ipython3",
   "version": "3.10.5"
  },
  "orig_nbformat": 4
 },
 "nbformat": 4,
 "nbformat_minor": 2
}
