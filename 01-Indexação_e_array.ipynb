{
 "cells": [
  {
   "cell_type": "code",
   "execution_count": null,
   "metadata": {},
   "outputs": [],
   "source": [
    "# Versão da Linguagem Python\n",
    "from platform import python_version\n",
    "print('Versão de Python Neste Jupyter Notebook:', python_version())"
   ]
  },
  {
   "attachments": {},
   "cell_type": "markdown",
   "metadata": {},
   "source": [
    "- Instalando o SciPy\n",
    "- Instalando o PIL\n",
    "- Redimensionando imagens\n",
    "- Comparando exibições e cópias\n",
    "- Lançando Lena\n",
    "- Indexação sofisticada\n",
    "- Indexação com uma lista de locais\n",
    "- Indexação com booleanos\n",
    "- Stride truques para Sudoku\n",
    "- matrizes de transmissão"
   ]
  },
  {
   "attachments": {},
   "cell_type": "markdown",
   "metadata": {},
   "source": [
    "O NumPy é famoso por seus arrays eficientes. Essa fama se deve em parte à facilidade de indexação. Demonstraremos truques avançados de indexação usando imagens. Antes de mergulhar na indexação, instalaremos o software necessário — SciPy e PIL."
   ]
  },
  {
   "attachments": {},
   "cell_type": "markdown",
   "metadata": {},
   "source": [
    "Alguns dos exemplos envolverão a manipulação de imagens. Para fazer isso, vamos exigir a imagem do Python."
   ]
  },
  {
   "attachments": {},
   "cell_type": "markdown",
   "metadata": {},
   "source": [
    "Biblioteca (PIL) ; mas não se preocupe, instruções e dicas para ajudá-lo a instalar o PIL e outros softwares Python necessários são fornecidos ao longo do capítulo, quando necessário."
   ]
  },
  {
   "attachments": {},
   "cell_type": "markdown",
   "metadata": {},
   "source": [
    "### Instalando o SciPy"
   ]
  },
  {
   "attachments": {},
   "cell_type": "markdown",
   "metadata": {},
   "source": [
    "SciPy é a biblioteca científica do Python e está intimamente relacionada ao NumPy.\n",
    "Há uma chance de você já ter instalado este software como parte da instalação do NumPy. SciPy e NumPy costumavam ser o mesmo projeto há muitos anos."
   ]
  },
  {
   "attachments": {},
   "cell_type": "markdown",
   "metadata": {},
   "source": [
    "- Instalando no Windows: Se você já tiver o Python instalado, o método\n",
    "preferido é baixar e usar a distribuição binária. Alternativamente, você pode querer instalar a distribuição Enthought Python, que vem com outro software Python científico pacotes."
   ]
  },
  {
   "attachments": {},
   "cell_type": "markdown",
   "metadata": {},
   "source": [
    "- Verifique sua instalação: Verifique a instalação do SciPy com o\n",
    "seguinte código:"
   ]
  },
  {
   "cell_type": "code",
   "execution_count": null,
   "metadata": {},
   "outputs": [],
   "source": [
    "import scipy\n",
    "print(scipy.__version__)\n",
    "print(scipy.__file__)"
   ]
  },
  {
   "attachments": {},
   "cell_type": "markdown",
   "metadata": {},
   "source": [
    "Isso deve imprimir a versão SciPy correta."
   ]
  },
  {
   "attachments": {},
   "cell_type": "markdown",
   "metadata": {},
   "source": [
    "### Instalando o PIL"
   ]
  },
  {
   "attachments": {},
   "cell_type": "markdown",
   "metadata": {},
   "source": [
    "PIL, a biblioteca de imagens Python, é um pré-requisito para os processamentos de imagem."
   ]
  },
  {
   "attachments": {},
   "cell_type": "markdown",
   "metadata": {},
   "source": [
    "- Installing PIL on Windows: Install using the Windows\n",
    "executable from the PIL website.\n",
    "\n",
    "http://www.pythonware.com/products/pil/."
   ]
  },
  {
   "attachments": {},
   "cell_type": "markdown",
   "metadata": {},
   "source": [
    "### Redimensionando imagens"
   ]
  },
  {
   "attachments": {},
   "cell_type": "markdown",
   "metadata": {},
   "source": [
    "carregaremos uma imagem de amostra de Lena, que está\n",
    "disponível na distribuição SciPy, em um array. A propósito, este capítulo não é\n",
    "sobre manipulação de imagens; usaremos apenas os dados da imagem como\n",
    "entrada."
   ]
  },
  {
   "attachments": {},
   "cell_type": "markdown",
   "metadata": {},
   "source": [
    "Vamos redimensionar a imagem usando a função de repetição . Essa função\n",
    "repete um array, o que na prática significa redimensionar a imagem por um\n",
    "determinado fator."
   ]
  },
  {
   "attachments": {},
   "cell_type": "markdown",
   "metadata": {},
   "source": [
    "1. Carregue a imagem Lena em um array."
   ]
  },
  {
   "attachments": {},
   "cell_type": "markdown",
   "metadata": {},
   "source": [
    "O SciPy possui uma função lena , que pode carregar a imagem em um Matriz NumPy:"
   ]
  },
  {
   "cell_type": "code",
   "execution_count": null,
   "metadata": {},
   "outputs": [],
   "source": [
    "lena = scipy.misc.lena()"
   ]
  },
  {
   "attachments": {},
   "cell_type": "markdown",
   "metadata": {},
   "source": [
    "Alguma refatoração ocorreu desde a versão 0.10, portanto, se você\n",
    "estiver usando uma versão mais antiga, o código correto é:"
   ]
  },
  {
   "cell_type": "code",
   "execution_count": null,
   "metadata": {},
   "outputs": [],
   "source": [
    "lena = scipy.lena()"
   ]
  },
  {
   "attachments": {},
   "cell_type": "markdown",
   "metadata": {},
   "source": [
    "2. Verifique a forma."
   ]
  },
  {
   "attachments": {},
   "cell_type": "markdown",
   "metadata": {},
   "source": [
    "Verifique a forma do array Lena usando a função assert_equal do\n",
    "pacote numpy.testing —este é um teste de verificação de sanidade\n",
    "opcional:"
   ]
  },
  {
   "cell_type": "code",
   "execution_count": null,
   "metadata": {},
   "outputs": [],
   "source": [
    "numpy.testing.assert_equal((LENA_X, LENA_Y), lena.shape)"
   ]
  },
  {
   "attachments": {},
   "cell_type": "markdown",
   "metadata": {},
   "source": [
    "3. Redimensione a matriz Lena."
   ]
  },
  {
   "attachments": {},
   "cell_type": "markdown",
   "metadata": {},
   "source": [
    "Redimensione o array Lena com a função repeat . Damos a esta função\n",
    "um fator de redimensionamento na direção x e y :"
   ]
  },
  {
   "cell_type": "code",
   "execution_count": null,
   "metadata": {},
   "outputs": [],
   "source": [
    "redimensionado = lena.repeat(yfactor, axis=0).repeat(xfactor, axis=1)"
   ]
  },
  {
   "attachments": {},
   "cell_type": "markdown",
   "metadata": {},
   "source": [
    "4. Plote as matrizes."
   ]
  },
  {
   "attachments": {},
   "cell_type": "markdown",
   "metadata": {},
   "source": [
    "Vamos plotar a imagem Lena e a imagem redimensionada em duas\n",
    "subtramas que fazem parte da mesma grade. Plote a matriz Lena em uma\n",
    "subtrama:"
   ]
  },
  {
   "cell_type": "code",
   "execution_count": null,
   "metadata": {},
   "outputs": [],
   "source": [
    "matplotlib.pyplot.subplot(211)\n",
    "matplotlib.pyplot.imshow(lena)"
   ]
  },
  {
   "attachments": {},
   "cell_type": "markdown",
   "metadata": {},
   "source": [
    "A função de subtrama do Matplotlib cria uma subtrama. Esta função\n",
    "aceita um inteiro de 3 dígitos como parâmetro, onde o primeiro dígito é o\n",
    "número de linhas, o segundo dígito é o número de colunas e o\n",
    "último dígito é o índice da subtrama começando com 1. A função\n",
    "imshow mostra imagens ."
   ]
  },
  {
   "attachments": {},
   "cell_type": "markdown",
   "metadata": {},
   "source": [
    "Por fim, a função show exibe o resultado final."
   ]
  },
  {
   "attachments": {},
   "cell_type": "markdown",
   "metadata": {},
   "source": [
    "Plote a matriz redimensionada em outra subtrama e exiba-a. O índice\n",
    "agora é 2:"
   ]
  },
  {
   "cell_type": "code",
   "execution_count": null,
   "metadata": {},
   "outputs": [],
   "source": [
    "matplotlib.pyplot.subplot(212)\n",
    "matplotlib.pyplot.imshow(redimensionado)\n",
    "matplotlib.pyplot.show()"
   ]
  },
  {
   "attachments": {},
   "cell_type": "markdown",
   "metadata": {},
   "source": [
    "A captura de tela a seguir é o resultado com a imagem original\n",
    "(primeira) e a imagem redimensionada (segunda):"
   ]
  },
  {
   "cell_type": "code",
   "execution_count": null,
   "metadata": {},
   "outputs": [],
   "source": [
    "# A seguir está o código completo para esta receita:\n",
    "\n",
    "import scipy.misc\n",
    "import sys\n",
    "import matplotlib.pyplot import\n",
    "numpy.testing\n",
    "# Este script redimensiona a imagem Lena do Scipy.\n",
    "if(len(sys.argv) != 3): print \"Uso\n",
    "python %s yfactor xfactor\" % (sys.argv[0]) sys.exit()\n",
    "\n",
    "# Carrega a imagem Lena em um array lena =\n",
    "lena = scipy.misc.lena()\n",
    "\n",
    "#Dimensões de Lena\n",
    "LENA_X = 512\n",
    "LENA_Y = 512\n",
    "#Verifique a forma do array Lena\n",
    "numpy.testing.assert_equal((LENA_X, LENA_Y), lena.shape)\n",
    "# Obtenha os fatores de\n",
    "redimensionamento yfactor =\n",
    "float(sys.argv[1]) xfactor = float(sys.argv[2])\n",
    "\n",
    "edimensione o array Lena\n",
    "resized = lena.repeat(yfactor, axis=0).repeat(xfactor, axis=1)\n",
    "#Verifique a forma do array redimensionado\n",
    "numpy.testing.assert_equal((yfactor LENA_Y, xfactor LENA_Y), redimensionado.\n",
    "\n",
    "# Plotar o array Lena\n",
    "matplotlib.pyplot.subplot(211)\n",
    "matplotlib.pyplot.imshow(lena)\n",
    "\n",
    "#Plote a matriz redimensionada\n",
    "matplotlib.pyplot.subplot(212)\n",
    "matplotlib.pyplot.imshow(resized)\n",
    "matplotlib.pyplot.show()\n"
   ]
  },
  {
   "attachments": {},
   "cell_type": "markdown",
   "metadata": {},
   "source": [
    "A função repeat repete arrays, o que, nesse caso, resultou na alteração do\n",
    "tamanho da imagem original. A função de subtrama do Matplotlib cria uma\n",
    "subtrama. A função imshow mostra imagens."
   ]
  },
  {
   "attachments": {},
   "cell_type": "markdown",
   "metadata": {},
   "source": [
    "Por fim, a função show exibe o resultado final."
   ]
  },
  {
   "attachments": {},
   "cell_type": "markdown",
   "metadata": {},
   "source": [
    "### Criando exibições e cópias"
   ]
  },
  {
   "cell_type": "markdown",
   "metadata": {},
   "source": []
  },
  {
   "cell_type": "markdown",
   "metadata": {},
   "source": []
  },
  {
   "cell_type": "markdown",
   "metadata": {},
   "source": []
  },
  {
   "cell_type": "markdown",
   "metadata": {},
   "source": []
  },
  {
   "cell_type": "markdown",
   "metadata": {},
   "source": []
  },
  {
   "cell_type": "code",
   "execution_count": null,
   "metadata": {},
   "outputs": [],
   "source": [
    "%reload_ext watermark\n",
    "%watermark -a \"Caique Miranda\" -gu \"caiquemiranda\" -iv"
   ]
  },
  {
   "attachments": {},
   "cell_type": "markdown",
   "metadata": {},
   "source": [
    "### End."
   ]
  }
 ],
 "metadata": {
  "language_info": {
   "name": "python"
  },
  "orig_nbformat": 4
 },
 "nbformat": 4,
 "nbformat_minor": 2
}
